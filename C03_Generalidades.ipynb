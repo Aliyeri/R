{
 "cells": [
  {
   "cell_type": "markdown",
   "metadata": {},
   "source": [
    "<img src=\"logo.png\">"
   ]
  },
  {
   "cell_type": "markdown",
   "metadata": {},
   "source": [
    "## Generalidades de R\n",
    "\n",
    "Abriendo *R*, en el modo por defecto, se abre una sola ventana, la consola o ventana de comandos de R, en la cual se pueden entrar los comandos y donde se ver´an los resultados de los análisis.\n",
    "\n",
    "El indicador o prompt del sistema es el signo ```>```. En principio, cada instrucción acaba con un signo de punto y coma (;) y Enter que indica su ejecución. Si no utilizamos el punto y coma e intentamos ejecutar la orden con Enter, el intérprete de comandos intentaré traducir la instrucción y, si es correcta, la ejecutará; si no es correcta mostrará un mensaje de error y si es incompleta quedará a la espera de completar la orden en la línea siguiente mostrando como indicador el signo ```+```. "
   ]
  },
  {
   "cell_type": "markdown",
   "metadata": {},
   "source": [
    "\n",
    "## Comentarios\n",
    "\n",
    "El signo ```#``` indica la introducción de un comentario. "
   ]
  },
  {
   "cell_type": "markdown",
   "metadata": {},
   "source": [
    "**Ejemplo**"
   ]
  },
  {
   "cell_type": "code",
   "execution_count": null,
   "metadata": {},
   "outputs": [],
   "source": [
    "3+4 # esto es igual a 7"
   ]
  },
  {
   "cell_type": "markdown",
   "metadata": {},
   "source": [
    "## Nombres y palabras reservadas\n",
    "\n",
    "El nombre de un objeto de R, sea un vector, una lista, una función, etc., puede ser cualquier cadena alfanumérica formada por letras (teniendo en cuenta que R distingue entre mayúsculas y minúsculas), dígitos del 0 al 9 (no como primer carácter) y el signo ```.``` (punto), sin limitación de número de caracteres. Por ejemplo, Exp1289, muestra.ini o\n",
    "muestra.ini.ajuste son nombres válidos.\n",
    "\n",
    "R tiene palabras reservadas como son los nombres de las instrucciones utilizadas en el lenguaje de programación (break, for, function, if, in, next, repeat, return, while) y los de las funciones incorporadas en el propio entorno del programa, que no se pueden usar como identificador de objetos. En el caso de intentar redefinir una función ya utilizada por el programa, R advierte de la duplicidad de definiciones."
   ]
  },
  {
   "cell_type": "markdown",
   "metadata": {},
   "source": [
    "## Asignación y llamados\n",
    "\n",
    "\n",
    "R es un lenguaje a través de funciones. Las instrucciones básicas son expresiones o asignaciones. Para realizar una asignación se pueden utilizar los signos  ```<-```,```->``` y  ```= ```. Para visualizar el contenido de un objeto únicamente es necesario escribir su nombre. Si el objeto es una función se mostrará en pantalla el programa que la función ejecuta."
   ]
  },
  {
   "cell_type": "markdown",
   "metadata": {},
   "source": [
    "**Ejemplo**"
   ]
  },
  {
   "cell_type": "code",
   "execution_count": null,
   "metadata": {},
   "outputs": [],
   "source": [
    "n<-5*2+3"
   ]
  },
  {
   "cell_type": "code",
   "execution_count": null,
   "metadata": {},
   "outputs": [],
   "source": [
    "n"
   ]
  },
  {
   "cell_type": "code",
   "execution_count": null,
   "metadata": {},
   "outputs": [],
   "source": [
    "m=5*2+4"
   ]
  },
  {
   "cell_type": "code",
   "execution_count": null,
   "metadata": {},
   "outputs": [],
   "source": [
    "m"
   ]
  },
  {
   "cell_type": "code",
   "execution_count": null,
   "metadata": {},
   "outputs": [],
   "source": [
    "n+m->p"
   ]
  },
  {
   "cell_type": "code",
   "execution_count": null,
   "metadata": {},
   "outputs": [],
   "source": [
    "p"
   ]
  },
  {
   "cell_type": "code",
   "execution_count": null,
   "metadata": {},
   "outputs": [],
   "source": [
    "n; m; p"
   ]
  },
  {
   "cell_type": "code",
   "execution_count": null,
   "metadata": {},
   "outputs": [],
   "source": [
    "(x <- log(7)) # (...) hace que se muestre el valor de x"
   ]
  },
  {
   "cell_type": "code",
   "execution_count": null,
   "metadata": {},
   "outputs": [],
   "source": [
    "x<-log(7); x"
   ]
  },
  {
   "cell_type": "markdown",
   "metadata": {},
   "source": [
    "## Visualización de objetos presentes\n",
    "\n",
    "Los comandos objects() y ls() visualizan el listado de objetos presentes en el actual\n",
    "espacio o área de trabajo (workspace).\n"
   ]
  },
  {
   "cell_type": "code",
   "execution_count": null,
   "metadata": {},
   "outputs": [],
   "source": [
    "objects()"
   ]
  },
  {
   "cell_type": "code",
   "execution_count": null,
   "metadata": {},
   "outputs": [],
   "source": [
    "ls()"
   ]
  },
  {
   "cell_type": "markdown",
   "metadata": {},
   "source": [
    "##  Cargado de paquetes\n",
    "\n",
    "La mayoría de los paquetes disponibles en la versión local de R han de ser cargados antes de que se les pueda utilizar. Por ejemplo, para cargar el paquete survival, que contiene funciones para el análisis de supervivencia, se puede ejecutar la siguiente instrucción\n"
   ]
  },
  {
   "cell_type": "code",
   "execution_count": null,
   "metadata": {},
   "outputs": [],
   "source": [
    "library(survival)"
   ]
  },
  {
   "cell_type": "code",
   "execution_count": null,
   "metadata": {},
   "outputs": [],
   "source": [
    "search()"
   ]
  },
  {
   "cell_type": "markdown",
   "metadata": {},
   "source": [
    "## Etiquetado de objetos\n",
    "\n",
    "Puede ser de ventaja el etiquetar los objetos de una sesión de R para acordarnos posteriormente de su contenido. Esto es posible con la función ```comment```.\n"
   ]
  },
  {
   "cell_type": "code",
   "execution_count": null,
   "metadata": {},
   "outputs": [],
   "source": [
    "x<-c(1:2019)\n",
    "comment(x)<-\"números enteros del 1 al 2019\""
   ]
  },
  {
   "cell_type": "code",
   "execution_count": null,
   "metadata": {},
   "outputs": [],
   "source": [
    "x"
   ]
  },
  {
   "cell_type": "code",
   "execution_count": null,
   "metadata": {},
   "outputs": [],
   "source": [
    "comment(x)"
   ]
  },
  {
   "cell_type": "markdown",
   "metadata": {},
   "source": [
    "## Ayuda\n",
    "\n",
    "En R podemos pedir ayuda sobre alguna función utilizando ```help(<<nombre del objeto>>)``` o con ```?<<nombre del objeto>>```"
   ]
  },
  {
   "cell_type": "code",
   "execution_count": null,
   "metadata": {},
   "outputs": [],
   "source": [
    "help(print)"
   ]
  },
  {
   "cell_type": "code",
   "execution_count": null,
   "metadata": {},
   "outputs": [],
   "source": [
    "?print"
   ]
  }
 ],
 "metadata": {
  "kernelspec": {
   "display_name": "R",
   "language": "R",
   "name": "ir"
  },
  "language_info": {
   "codemirror_mode": "r",
   "file_extension": ".r",
   "mimetype": "text/x-r-source",
   "name": "R",
   "pygments_lexer": "r",
   "version": "3.6.1"
  }
 },
 "nbformat": 4,
 "nbformat_minor": 2
}
