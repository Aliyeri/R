{
 "cells": [
  {
   "cell_type": "markdown",
   "metadata": {},
   "source": [
    "<img src=\"logo.png\">"
   ]
  },
  {
   "cell_type": "markdown",
   "metadata": {},
   "source": [
    "# Arrays y matrices\n",
    "\n",
    "## Arrays\n",
    "\n",
    "Un **array** una colección de datos, todos del mismo tipo, indexada por varios índices. R permite crear y manipular variables indexadas en general y en particular, matrices.\n",
    "\n",
    "Un vector de dimensiones es un vector de números enteros positivos. Si su longitud es $k$ entonces la variable indexada correspondiente es $k$–dimensional. Los elementos del vector de dimensiones indican los límites superiores de los $k$ índices. Los límites inferiores siempre valen 1.\n",
    "\n",
    "Un vector puede transformarse en una variable indexada cuando se asigna un vector de dimensiones al atributo ```dim```. \n"
   ]
  },
  {
   "cell_type": "code",
   "execution_count": 1,
   "metadata": {},
   "outputs": [
    {
     "data": {
      "text/plain": [
       "NULL"
      ]
     },
     "metadata": {},
     "output_type": "display_data"
    }
   ],
   "source": [
    "x<-c(1:60); dim(x)"
   ]
  },
  {
   "cell_type": "code",
   "execution_count": 2,
   "metadata": {},
   "outputs": [],
   "source": [
    "dim(x)<-c(3,5,4) # Se le pedirá a R que los 60 elementos de x se coloquen en una caja de dimensiones 3x5x4"
   ]
  },
  {
   "cell_type": "code",
   "execution_count": 3,
   "metadata": {},
   "outputs": [
    {
     "data": {
      "text/html": [
       "<ol class=list-inline>\n",
       "\t<li>3</li>\n",
       "\t<li>5</li>\n",
       "\t<li>4</li>\n",
       "</ol>\n"
      ],
      "text/latex": [
       "\\begin{enumerate*}\n",
       "\\item 3\n",
       "\\item 5\n",
       "\\item 4\n",
       "\\end{enumerate*}\n"
      ],
      "text/markdown": [
       "1. 3\n",
       "2. 5\n",
       "3. 4\n",
       "\n",
       "\n"
      ],
      "text/plain": [
       "[1] 3 5 4"
      ]
     },
     "metadata": {},
     "output_type": "display_data"
    }
   ],
   "source": [
    "dim(x)"
   ]
  },
  {
   "cell_type": "markdown",
   "metadata": {},
   "source": [
    "De hecho, ambas instrucciones se pueden resumir con la función ```array()```. La sintaxis es ```array(vector de datos,dim=vector de dimensiones)```."
   ]
  },
  {
   "cell_type": "code",
   "execution_count": 4,
   "metadata": {},
   "outputs": [],
   "source": [
    "y<-array(c(1:60),dim=c(3,5,4))"
   ]
  },
  {
   "cell_type": "markdown",
   "metadata": {},
   "source": [
    "## Elementos de un array\n",
    "\n",
    "Como con los vectores, los elementos de un array pueden llamarse utilizando corchetes indicando los índices correspondientes a cada una de las dimensiones. Si una dimensión se omite, R interpreta que se piden todos los elementos de esa dimensión respectiva."
   ]
  },
  {
   "cell_type": "code",
   "execution_count": 5,
   "metadata": {},
   "outputs": [
    {
     "data": {
      "text/html": [
       "1"
      ],
      "text/latex": [
       "1"
      ],
      "text/markdown": [
       "1"
      ],
      "text/plain": [
       "[1] 1"
      ]
     },
     "metadata": {},
     "output_type": "display_data"
    }
   ],
   "source": [
    "x[1,1,1]"
   ]
  },
  {
   "cell_type": "code",
   "execution_count": 6,
   "metadata": {},
   "outputs": [
    {
     "data": {
      "text/html": [
       "34"
      ],
      "text/latex": [
       "34"
      ],
      "text/markdown": [
       "34"
      ],
      "text/plain": [
       "[1] 34"
      ]
     },
     "metadata": {},
     "output_type": "display_data"
    }
   ],
   "source": [
    "x[1,2,3]"
   ]
  },
  {
   "cell_type": "code",
   "execution_count": 7,
   "metadata": {},
   "outputs": [
    {
     "data": {
      "text/html": [
       "<ol class=list-inline>\n",
       "\t<li>31</li>\n",
       "\t<li>34</li>\n",
       "\t<li>37</li>\n",
       "\t<li>40</li>\n",
       "\t<li>43</li>\n",
       "</ol>\n"
      ],
      "text/latex": [
       "\\begin{enumerate*}\n",
       "\\item 31\n",
       "\\item 34\n",
       "\\item 37\n",
       "\\item 40\n",
       "\\item 43\n",
       "\\end{enumerate*}\n"
      ],
      "text/markdown": [
       "1. 31\n",
       "2. 34\n",
       "3. 37\n",
       "4. 40\n",
       "5. 43\n",
       "\n",
       "\n"
      ],
      "text/plain": [
       "[1] 31 34 37 40 43"
      ]
     },
     "metadata": {},
     "output_type": "display_data"
    }
   ],
   "source": [
    "x[1,,3]"
   ]
  },
  {
   "cell_type": "code",
   "execution_count": 8,
   "metadata": {},
   "outputs": [
    {
     "data": {
      "text/html": [
       "<table>\n",
       "<tbody>\n",
       "\t<tr><td>31</td><td>34</td><td>37</td><td>40</td><td>43</td></tr>\n",
       "\t<tr><td>32</td><td>35</td><td>38</td><td>41</td><td>44</td></tr>\n",
       "\t<tr><td>33</td><td>36</td><td>39</td><td>42</td><td>45</td></tr>\n",
       "</tbody>\n",
       "</table>\n"
      ],
      "text/latex": [
       "\\begin{tabular}{lllll}\n",
       "\t 31 & 34 & 37 & 40 & 43\\\\\n",
       "\t 32 & 35 & 38 & 41 & 44\\\\\n",
       "\t 33 & 36 & 39 & 42 & 45\\\\\n",
       "\\end{tabular}\n"
      ],
      "text/markdown": [
       "\n",
       "| 31 | 34 | 37 | 40 | 43 |\n",
       "| 32 | 35 | 38 | 41 | 44 |\n",
       "| 33 | 36 | 39 | 42 | 45 |\n",
       "\n"
      ],
      "text/plain": [
       "     [,1] [,2] [,3] [,4] [,5]\n",
       "[1,] 31   34   37   40   43  \n",
       "[2,] 32   35   38   41   44  \n",
       "[3,] 33   36   39   42   45  "
      ]
     },
     "metadata": {},
     "output_type": "display_data"
    }
   ],
   "source": [
    "x[,,3]"
   ]
  },
  {
   "cell_type": "code",
   "execution_count": 10,
   "metadata": {},
   "outputs": [
    {
     "data": {
      "text/html": [
       "<ol class=list-inline>\n",
       "\t<li>16</li>\n",
       "\t<li>17</li>\n",
       "\t<li>18</li>\n",
       "</ol>\n"
      ],
      "text/latex": [
       "\\begin{enumerate*}\n",
       "\\item 16\n",
       "\\item 17\n",
       "\\item 18\n",
       "\\end{enumerate*}\n"
      ],
      "text/markdown": [
       "1. 16\n",
       "2. 17\n",
       "3. 18\n",
       "\n",
       "\n"
      ],
      "text/plain": [
       "[1] 16 17 18"
      ]
     },
     "metadata": {},
     "output_type": "display_data"
    }
   ],
   "source": [
    "x[,1,2] # el orden tridimensional corresponde a renglones, columnas y filas"
   ]
  },
  {
   "cell_type": "markdown",
   "metadata": {},
   "source": [
    "Un array puede utilizar no sólo un vector de índices, sino incluso otro array de índices, tanto para asignar un vector a una colección irregular de elementos de un array como para extraer una colección irregular de elementos."
   ]
  },
  {
   "cell_type": "code",
   "execution_count": 11,
   "metadata": {},
   "outputs": [],
   "source": [
    "x<-array(c(1:20),dim=c(4,5))"
   ]
  },
  {
   "cell_type": "code",
   "execution_count": 12,
   "metadata": {},
   "outputs": [
    {
     "data": {
      "text/html": [
       "<table>\n",
       "<tbody>\n",
       "\t<tr><td>1 </td><td>5 </td><td> 9</td><td>13</td><td>17</td></tr>\n",
       "\t<tr><td>2 </td><td>6 </td><td>10</td><td>14</td><td>18</td></tr>\n",
       "\t<tr><td>3 </td><td>7 </td><td>11</td><td>15</td><td>19</td></tr>\n",
       "\t<tr><td>4 </td><td>8 </td><td>12</td><td>16</td><td>20</td></tr>\n",
       "</tbody>\n",
       "</table>\n"
      ],
      "text/latex": [
       "\\begin{tabular}{lllll}\n",
       "\t 1  & 5  &  9 & 13 & 17\\\\\n",
       "\t 2  & 6  & 10 & 14 & 18\\\\\n",
       "\t 3  & 7  & 11 & 15 & 19\\\\\n",
       "\t 4  & 8  & 12 & 16 & 20\\\\\n",
       "\\end{tabular}\n"
      ],
      "text/markdown": [
       "\n",
       "| 1  | 5  |  9 | 13 | 17 |\n",
       "| 2  | 6  | 10 | 14 | 18 |\n",
       "| 3  | 7  | 11 | 15 | 19 |\n",
       "| 4  | 8  | 12 | 16 | 20 |\n",
       "\n"
      ],
      "text/plain": [
       "     [,1] [,2] [,3] [,4] [,5]\n",
       "[1,] 1    5     9   13   17  \n",
       "[2,] 2    6    10   14   18  \n",
       "[3,] 3    7    11   15   19  \n",
       "[4,] 4    8    12   16   20  "
      ]
     },
     "metadata": {},
     "output_type": "display_data"
    }
   ],
   "source": [
    "x"
   ]
  },
  {
   "cell_type": "code",
   "execution_count": 17,
   "metadata": {},
   "outputs": [
    {
     "data": {
      "text/html": [
       "<table>\n",
       "<tbody>\n",
       "\t<tr><td>1</td><td>1</td></tr>\n",
       "\t<tr><td>2</td><td>2</td></tr>\n",
       "\t<tr><td>3</td><td>3</td></tr>\n",
       "\t<tr><td>4</td><td>4</td></tr>\n",
       "</tbody>\n",
       "</table>\n"
      ],
      "text/latex": [
       "\\begin{tabular}{ll}\n",
       "\t 1 & 1\\\\\n",
       "\t 2 & 2\\\\\n",
       "\t 3 & 3\\\\\n",
       "\t 4 & 4\\\\\n",
       "\\end{tabular}\n"
      ],
      "text/markdown": [
       "\n",
       "| 1 | 1 |\n",
       "| 2 | 2 |\n",
       "| 3 | 3 |\n",
       "| 4 | 4 |\n",
       "\n"
      ],
      "text/plain": [
       "     [,1] [,2]\n",
       "[1,] 1    1   \n",
       "[2,] 2    2   \n",
       "[3,] 3    3   \n",
       "[4,] 4    4   "
      ]
     },
     "metadata": {},
     "output_type": "display_data"
    }
   ],
   "source": [
    "(y<-array(c(1:4,1:4),dim=c(4,2)))\n"
   ]
  },
  {
   "cell_type": "code",
   "execution_count": 18,
   "metadata": {},
   "outputs": [],
   "source": [
    "x[y]<-2019"
   ]
  },
  {
   "cell_type": "code",
   "execution_count": 19,
   "metadata": {},
   "outputs": [
    {
     "data": {
      "text/html": [
       "<table>\n",
       "<tbody>\n",
       "\t<tr><td>2019</td><td>   5</td><td>   0</td><td>  13</td><td>17  </td></tr>\n",
       "\t<tr><td>   2</td><td>2019</td><td>  10</td><td>  14</td><td>18  </td></tr>\n",
       "\t<tr><td>   0</td><td>   7</td><td>2019</td><td>  15</td><td>19  </td></tr>\n",
       "\t<tr><td>   4</td><td>   8</td><td>  12</td><td>2019</td><td>20  </td></tr>\n",
       "</tbody>\n",
       "</table>\n"
      ],
      "text/latex": [
       "\\begin{tabular}{lllll}\n",
       "\t 2019 &    5 &    0 &   13 & 17  \\\\\n",
       "\t    2 & 2019 &   10 &   14 & 18  \\\\\n",
       "\t    0 &    7 & 2019 &   15 & 19  \\\\\n",
       "\t    4 &    8 &   12 & 2019 & 20  \\\\\n",
       "\\end{tabular}\n"
      ],
      "text/markdown": [
       "\n",
       "| 2019 |    5 |    0 |   13 | 17   |\n",
       "|    2 | 2019 |   10 |   14 | 18   |\n",
       "|    0 |    7 | 2019 |   15 | 19   |\n",
       "|    4 |    8 |   12 | 2019 | 20   |\n",
       "\n"
      ],
      "text/plain": [
       "     [,1] [,2] [,3] [,4] [,5]\n",
       "[1,] 2019    5    0   13 17  \n",
       "[2,]    2 2019   10   14 18  \n",
       "[3,]    0    7 2019   15 19  \n",
       "[4,]    4    8   12 2019 20  "
      ]
     },
     "metadata": {},
     "output_type": "display_data"
    }
   ],
   "source": [
    "x"
   ]
  },
  {
   "cell_type": "markdown",
   "metadata": {},
   "source": [
    "Lo anterior también se puede hacer directamente:"
   ]
  },
  {
   "cell_type": "code",
   "execution_count": 20,
   "metadata": {},
   "outputs": [],
   "source": [
    "x[1,3]<-2019; x[2,2]<-2020; x[3,1]<-2021"
   ]
  },
  {
   "cell_type": "code",
   "execution_count": 21,
   "metadata": {},
   "outputs": [
    {
     "data": {
      "text/html": [
       "<table>\n",
       "<tbody>\n",
       "\t<tr><td>2019</td><td>   5</td><td>2019</td><td>  13</td><td>17  </td></tr>\n",
       "\t<tr><td>   2</td><td>2020</td><td>  10</td><td>  14</td><td>18  </td></tr>\n",
       "\t<tr><td>2021</td><td>   7</td><td>2019</td><td>  15</td><td>19  </td></tr>\n",
       "\t<tr><td>   4</td><td>   8</td><td>  12</td><td>2019</td><td>20  </td></tr>\n",
       "</tbody>\n",
       "</table>\n"
      ],
      "text/latex": [
       "\\begin{tabular}{lllll}\n",
       "\t 2019 &    5 & 2019 &   13 & 17  \\\\\n",
       "\t    2 & 2020 &   10 &   14 & 18  \\\\\n",
       "\t 2021 &    7 & 2019 &   15 & 19  \\\\\n",
       "\t    4 &    8 &   12 & 2019 & 20  \\\\\n",
       "\\end{tabular}\n"
      ],
      "text/markdown": [
       "\n",
       "| 2019 |    5 | 2019 |   13 | 17   |\n",
       "|    2 | 2020 |   10 |   14 | 18   |\n",
       "| 2021 |    7 | 2019 |   15 | 19   |\n",
       "|    4 |    8 |   12 | 2019 | 20   |\n",
       "\n"
      ],
      "text/plain": [
       "     [,1] [,2] [,3] [,4] [,5]\n",
       "[1,] 2019    5 2019   13 17  \n",
       "[2,]    2 2020   10   14 18  \n",
       "[3,] 2021    7 2019   15 19  \n",
       "[4,]    4    8   12 2019 20  "
      ]
     },
     "metadata": {},
     "output_type": "display_data"
    }
   ],
   "source": [
    "x"
   ]
  },
  {
   "cell_type": "markdown",
   "metadata": {},
   "source": [
    "Mediante la función```which()``` es posible hacer el procedimiento inverso. Esto es, recuperar índices. Su sintaxis general es ```which(x, arr.ind = FALSE)``` donde ```x``` es el vector o arreglo de donde se requiere recuperar los índices y ```arr.ind``` se cambia a ```TRUE``` si se requiere multiíndices (es decir, índices multidimensionales). "
   ]
  },
  {
   "cell_type": "code",
   "execution_count": 22,
   "metadata": {},
   "outputs": [
    {
     "data": {
      "text/html": [
       "<table>\n",
       "<thead><tr><th scope=col>row</th><th scope=col>col</th></tr></thead>\n",
       "<tbody>\n",
       "\t<tr><td>1</td><td>1</td></tr>\n",
       "\t<tr><td>3</td><td>1</td></tr>\n",
       "\t<tr><td>2</td><td>2</td></tr>\n",
       "\t<tr><td>1</td><td>3</td></tr>\n",
       "\t<tr><td>3</td><td>3</td></tr>\n",
       "\t<tr><td>4</td><td>4</td></tr>\n",
       "</tbody>\n",
       "</table>\n"
      ],
      "text/latex": [
       "\\begin{tabular}{ll}\n",
       " row & col\\\\\n",
       "\\hline\n",
       "\t 1 & 1\\\\\n",
       "\t 3 & 1\\\\\n",
       "\t 2 & 2\\\\\n",
       "\t 1 & 3\\\\\n",
       "\t 3 & 3\\\\\n",
       "\t 4 & 4\\\\\n",
       "\\end{tabular}\n"
      ],
      "text/markdown": [
       "\n",
       "| row | col |\n",
       "|---|---|\n",
       "| 1 | 1 |\n",
       "| 3 | 1 |\n",
       "| 2 | 2 |\n",
       "| 1 | 3 |\n",
       "| 3 | 3 |\n",
       "| 4 | 4 |\n",
       "\n"
      ],
      "text/plain": [
       "     row col\n",
       "[1,] 1   1  \n",
       "[2,] 3   1  \n",
       "[3,] 2   2  \n",
       "[4,] 1   3  \n",
       "[5,] 3   3  \n",
       "[6,] 4   4  "
      ]
     },
     "metadata": {},
     "output_type": "display_data"
    }
   ],
   "source": [
    "which(x>200,arr.ind=TRUE)"
   ]
  },
  {
   "cell_type": "code",
   "execution_count": 23,
   "metadata": {},
   "outputs": [
    {
     "name": "stderr",
     "output_type": "stream",
     "text": [
      "Warning message in log(c(-1, 2, 3)):\n",
      "\"Se han producido NaNs\""
     ]
    },
    {
     "data": {
      "text/html": [
       "<ol class=list-inline>\n",
       "\t<li>NaN</li>\n",
       "\t<li>0.693147180559945</li>\n",
       "\t<li>1.09861228866811</li>\n",
       "</ol>\n"
      ],
      "text/latex": [
       "\\begin{enumerate*}\n",
       "\\item NaN\n",
       "\\item 0.693147180559945\n",
       "\\item 1.09861228866811\n",
       "\\end{enumerate*}\n"
      ],
      "text/markdown": [
       "1. NaN\n",
       "2. 0.693147180559945\n",
       "3. 1.09861228866811\n",
       "\n",
       "\n"
      ],
      "text/plain": [
       "[1]       NaN 0.6931472 1.0986123"
      ]
     },
     "metadata": {},
     "output_type": "display_data"
    }
   ],
   "source": [
    "(Logaritmo<-log(c(-1,2,3)))"
   ]
  },
  {
   "cell_type": "code",
   "execution_count": 24,
   "metadata": {},
   "outputs": [
    {
     "data": {
      "text/html": [
       "1"
      ],
      "text/latex": [
       "1"
      ],
      "text/markdown": [
       "1"
      ],
      "text/plain": [
       "[1] 1"
      ]
     },
     "metadata": {},
     "output_type": "display_data"
    }
   ],
   "source": [
    "which(Logaritmo==\"NaN\")"
   ]
  },
  {
   "cell_type": "markdown",
   "metadata": {},
   "source": [
    "## Matrices\n",
    "\n",
    "Las matrices son arrays numéricos de dos dimensiones.\n",
    "\n",
    "## Operaciones con matrices\n",
    "\n",
    "R dispone de muchos operadores y funciones diseñados específicamente para matrices. Por ejemplo, ```t(X)``` es la matriz traspuesta de ```X```. Las funciones ```nrow``` y ```ncol``` devuelven el número de filas y de columnas de una matriz (técnicamente, ```nrow(X)``` es lo mismo que ```dim(X)[1]``` y ```ncol(X)``` es lo mismo que ```dim(X)[2]```)\n"
   ]
  },
  {
   "cell_type": "markdown",
   "metadata": {},
   "source": [
    "Otras funciones especiales de matrices son las siguientes.\n",
    "\n",
    "* ```A%*%B``` es el producto usual de matrices y por lo tanto se requieren las reglas usuales sobre las dimensiones de ```A``` y ```B``` (el número de columnas de ```A``` debe ser igual al número de filas de ```B```).\n",
    "\n",
    "* ```A*B``` es el **producto de Hadamard** de estas matrices. Es decir, el producto entrada por entrada de las matrices. Matemáticamente, ```A``` y ```B``` deben tener las mismas dimensiones.\n",
    "\n",
    "* ```crossprod(A,B)``` que se define como ```t(A)%*%B```.\n",
    "\n",
    "* ```diag()``` que sirve para construir matrices diagonales.\n",
    "    1) Si su argumento es una matriz devuelve el vector con los elementos de su diagonal; \n",
    "    2) Si el argumento es un vector con mas de un elemento, devuelve una matriz diagonal cuyos elementos diagonales son los            elementos de dicho vector.\n",
    "    3) Si su argumento es un entero positivo $n$, devuelve la matriz identidad de tamaño $n\\times n$."
   ]
  },
  {
   "cell_type": "markdown",
   "metadata": {},
   "source": [
    "## Eigenvalores y eigenvectores\n",
    "\n",
    "R también permite, aunque de manera muy limitada, hacer cálculos propios del Álgebra Lineal. Por ejemplo, la función ```eigen()``` devuelve los autovalores y los autovectores de matrices. Esta función nos devuelve un objeto de tipo **eigen** con dos atributos: values y vectors. Así, ```eigen(X)$values``` devuelve el vector de eigenvalores de $X$ en tanto que ```eigen(X)$vectors``` devuelve una matrix donde la columna $k$ es un eigenvector correspondiente al $k$-ésimo eigenvalor con norma 1."
   ]
  },
  {
   "cell_type": "code",
   "execution_count": null,
   "metadata": {},
   "outputs": [],
   "source": []
  }
 ],
 "metadata": {
  "kernelspec": {
   "display_name": "R",
   "language": "R",
   "name": "ir"
  },
  "language_info": {
   "codemirror_mode": "r",
   "file_extension": ".r",
   "mimetype": "text/x-r-source",
   "name": "R",
   "pygments_lexer": "r",
   "version": "3.6.1"
  }
 },
 "nbformat": 4,
 "nbformat_minor": 2
}
