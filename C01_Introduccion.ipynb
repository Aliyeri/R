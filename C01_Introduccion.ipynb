{
 "cells": [
  {
   "cell_type": "markdown",
   "metadata": {},
   "source": [
    "<img src=\"logo.png\">"
   ]
  },
  {
   "cell_type": "markdown",
   "metadata": {},
   "source": [
    "# Introducción.\n",
    "\n",
    "[R](https://www.r-project.org/) es un entorno y lenguaje de programación con un enfoque al análisis estadístico.\n",
    "\n",
    "R nació como una reimplementación de software libre del lenguaje S, adicionado con soporte para alcance estático. Se trata de uno de los lenguajes de programación más utilizados en investigación científica, siendo además muy popular en los campos de aprendizaje automático (machine learning), minería de datos, investigación biomédica, bioinformática y matemáticas financieras. A esto contribuye la posibilidad de cargar diferentes bibliotecas o paquetes con funcionalidades de cálculo y graficación.\n",
    "\n",
    "R es parte del sistema GNU y se distribuye bajo la licencia GNU GPL. Está disponible para los sistemas operativos Windows, Macintosh, Unix y GNU/Linux."
   ]
  },
  {
   "cell_type": "markdown",
   "metadata": {},
   "source": [
    "## Características de R\n",
    "\n",
    "A lo largo de estos cursos se explorarán y aprovecharán las características de R.\n",
    "\n",
    "* Sintaxis muy clara y legible.\n",
    "* Orientación a objetos intuitiva.\n",
    "* Enfocado, pero no limitado, a análisis estadísticos.\n",
    "* Tipos de datos dinámicos de muy alto nivel."
   ]
  },
  {
   "cell_type": "markdown",
   "metadata": {},
   "source": [
    "## Desventajas.\n",
    "\n",
    "Su principal ventaja es también su punto débil, sobre todo para los principiantes: R utiliza una consola de comandos en lugar de una interfaz gráfica.\n",
    "\n",
    "Esto conlleva que el dominio de la sintaxis sea exigente y requiera mucha práctica. Se suele decir que su curva de aprendizaje  es «empinada», pero el esfuerzo inicial al poco tiempo es recompensado con creces."
   ]
  },
  {
   "cell_type": "markdown",
   "metadata": {},
   "source": [
    "## Historia. \n",
    "\n",
    "R fue creado en 1992 en Nueva Zelanda por Ross Ihaka y Robert Gentleman. La intención inicial con R, era hacer un lenguaje didáctico, para ser utilizado en el curso de Introducción a la Estadística de la Universidad de Nueva Zelanda. Para ello decidieron adoptar la sintaxis del lenguaje S desarrollado por Bell Laboratories. Como consecuencia, R es similar a S, aunque manteniendo diferencias importantes.\n",
    "\n",
    "Ross y Robert comienzan a llamar “R” al lenguaje que implementaron, por las iniciales de sus nombres, y desde entonces así se le conoce en la muy extendida comunidad amante de dicho lenguaje. \n",
    "\n",
    "S es un lenguaje que fue desarrollado por John Chambers y colaboradores en Laboratorios Bell (AT&T), actualmente Lucent Tecnologies, en 1976. Originalmente fue codificado e implementado como unas bibliotecas de FORTRAN. Por razones de eficiencia, en 1988 S fue reescrito en lenguaje C, dando origen al sistema estadístico S.3. Con la finalidad de impulsar\n",
    "comercialmente a S, Bell Laboratories dio a Insightful en 1993, una licencia exclusiva para desarrollar y vender el lenguaje S. En 1998, S ganó el premio de la Association for Computing Machinery a los Sistemas de Software, y se liberó la versión 4, la cual es prácticamente la versión actual.\n",
    "\n",
    "El éxito de S fue tal que, en 2004 Insightful decide comprar el lenguaje a Bell Laboratories por la suma de 2 millones de dólares, convirtiéndose hasta la fecha en el dueño. Desde entonces, Insightful vende su implementación del lenguaje S bajo el nombre de S-PLUS, donde le añade un ambiente gráfico amigable. \n",
    "\n",
    "En el año 2008, TIBCO compra Insightful por 25 millones de dólares y se continúa vendiendo S-PLUS, sin modificaciones. R, que define su sintaxis a partir de esa versión de S, no ha sufrido en lo fundamental ningún cambio dramático desde 1998.\n",
    "\n",
    "Luego de la creación de R en 1992, se da un primer anuncio al público del software R en 1993. En 1995 Martin Mächler, de la Escuela Politécnica Federal de Zúrich, convence a Ross y Robert a usar la Licencia GNU para hacer de R un software libre.\n",
    "Como consecuencia, a partir de 1997, R forma parte del proyecto GNU.\n",
    "\n",
    "Con el propósito de crear algún tipo de soporte para el lenguaje, en 1996 se crea una lista pública de correos; sin embargo debido al gran éxito de R, los creadores fueron rebasados por la continua llegada de correos. Por esta razón, se vieron en la necesidad de crear, en 1997, dos listas de correos, a saber: R-help y R-devel, que son las que actualmente funcionan para responder las diversas dudas que los usuarios proponen en muy diversos asuntos relativos al lenguaje. Además se consolida el grupo núcleo de R,donde se involucran personas asociadas con S-PLUS, con la finalidad de administrar el código fuente de R.\n",
    "\n",
    "Fue hasta febrero de 29 del 2000, que se considera al software completo y lo suficientemente estable.\n"
   ]
  },
  {
   "cell_type": "markdown",
   "metadata": {},
   "source": [
    "## Breve introducción a los lenguajes de programación.\n",
    "\n",
    "Un lenguaje es un conjunto de cadenas de símbolos con los que se pueden crear mensajes. De ese modo los mensajes son transmitidos de un emisor a un receptor. Aún cuando en la naturaleza se pueden identificar ciertos lenguajes, los seres humanos hemos desarrollado lenguajes de diversos tipos y gran complejidad.\n",
    "\n",
    "Los lenguajes constan principamente de la gramática, la cual trata sobre la construcción del lenguaje, y la semántica, la cual trata sobre el significado del lenguaje.\n",
    "\n",
    "A su vez, la gramática consta de: \n",
    "* Morfología: cómo se construyen las notaciones (género, tiempos, declinaciones).\n",
    "* Sintaxis: cómo se deben escribir las notaciones (orden, estructura).\n",
    "\n",
    "Durante el siglo XX, científicos como [Alan Turing](https://en.wikipedia.org/wiki/Alan_Turing) y [Alonzo Church](https://en.wikipedia.org/wiki/Alonzo_Church) fundaron las bases del cómputo, la programación y sus lenguajes. Los lenguajes de programación actuales, a diferencia de los lenguajes humanos tienen una morfología rígida y simplificada con el fin de ejecutar instrucciones específicas en los sistemas de cómputo."
   ]
  },
  {
   "cell_type": "markdown",
   "metadata": {},
   "source": [
    "### Lenguajes de alto y bajo nivel.\n",
    "\n",
    "Los lenguajes de bajo nivel constan de un conjunto básico de instrucciones que son ejecutados directamente por la unidad de procesamiento de un sistema de cómputo, tal como es el caso del lenguaje ensamblador. Dichos lenguajes están ligados intrínsecamente al tipo de procesador que los ejecuta y resultan ser muy complicados de elaborar e interpretar por las personas. \n",
    "\n",
    "Por su parte, los lenguajes de alto nivel son más accesibles para el ser humano e incluso menos dependientes del tipo de hardware, pero deben de ser a su vez traducidos a lenguaje de de bajo nivel."
   ]
  },
  {
   "cell_type": "markdown",
   "metadata": {},
   "source": [
    "### Lenguajes compilados e interpretados.\n",
    "\n",
    "Los lenguajes de alto nivel interactúan con los sistema de cómputo de dos formas.\n",
    "\n",
    "* Mediante un compilador, el cual traduce el código de un programa a lenguaje de bajo nivel, dando por resultado un \"archivo binario\" el cual es susceptible de ser ejecutado.\n",
    "* Mediante un intérprete, el cual ejecuta de inmediato las instrucciones que se ingresan.\n",
    "\n",
    "Por lo general los lenguajes compilados son más rápidos y consumen menos recursos que los lenguajes interpretados en vista de que el archivo resultante es código de bajo nivel, mientras que los lenguajes interpretados deben seguir un proceso a través de varios niveles de abstracción hasta que las instrucciones son ejecutadas por el sistema.\n",
    "\n",
    "**R es un lenguaje interpretado de alto nivel.**"
   ]
  },
  {
   "cell_type": "markdown",
   "metadata": {},
   "source": [
    "## Entornos  interactivos, guiones y *'Hola Mundo'*.\n",
    "\n",
    "Debido a que R es un lenguaje interpretado, es posible utilizarlo mediante un entorno interactivo (shell) o mediante el uso de guiones (scripts)."
   ]
  },
  {
   "cell_type": "markdown",
   "metadata": {},
   "source": [
    "### El entorno interactivo.\n",
    "\n",
    "El entorno interactivo (shell) de R se ejecuta desde una terminal de texto. \n",
    "\n",
    "El entorno interactivo se verá de forma similar a la siguiente:\n",
    "\n",
    "```\n",
    "R version 3.4.2 (2017-09-28) -- \"Short Summer\"\n",
    "Copyright (C) 2017 The R Foundation for Statistical Computing\n",
    "Platform: x86_64-w64-mingw32/x64 (64-bit)\n",
    "\n",
    "R es un software libre y viene sin GARANTIA ALGUNA.\n",
    "Usted puede redistribuirlo bajo ciertas circunstancias.\n",
    "Escriba 'license()' o 'licence()' para detalles de distribucion.\n",
    "\n",
    "R es un proyecto colaborativo con muchos contribuyentes.\n",
    "Escriba 'contributors()' para obtener más información y\n",
    "'citation()' para saber cómo citar R o paquetes de R en publicaciones.\n",
    "\n",
    "Escriba 'demo()' para demostraciones, 'help()' para el sistema on-line de ayuda,\n",
    "o 'help.start()' para abrir el sistema de ayuda HTML con su navegador.\n",
    "Escriba 'q()' para salir de R.\n",
    "\n",
    "```\n",
    " \n",
    "**NOTA:** Para salir del entorno interactivo se debe teclear ```q()``` y oprimir la tecla <kbd>Intro</kbd>."
   ]
  },
  {
   "cell_type": "markdown",
   "metadata": {},
   "source": [
    "### *'Hola Mundo'* en el entorno interactivo.\n",
    "Para desplegar el texto Hola Mundo desde en entorno interactivo sólo es necesario teclear lo siguiente:\n",
    "\n",
    "```\n",
    ">>> print(\"Hola, Mundo.\")\n",
    "```\n",
    "\n",
    "Y el resultado es el siguiente:\n",
    "\n",
    "```\n",
    "Hola, Mundo.\n",
    ">>>\n",
    "```"
   ]
  },
  {
   "cell_type": "markdown",
   "metadata": {},
   "source": [
    "### *'Hola Mundo'* en la notebook de Jupyter.\n",
    "\n",
    "Las notebooks de Jupyter funcionan mediante *kernels* los cuales son conexiones a un intérprete del lenguaje correspondiente.\n",
    "\n",
    "Para ejecutar un comando de Python en una notebook de Jupyter con el kernel de R, sólo es necesario escribir el código en una terminal de tipo ```Code``` y ejecutarla."
   ]
  },
  {
   "cell_type": "markdown",
   "metadata": {},
   "source": [
    "**Ejemplo:**"
   ]
  },
  {
   "cell_type": "code",
   "execution_count": 1,
   "metadata": {},
   "outputs": [
    {
     "name": "stdout",
     "output_type": "stream",
     "text": [
      "[1] \"Hola, Mundo.\"\n"
     ]
    }
   ],
   "source": [
    "print(\"Hola, Mundo.\")"
   ]
  },
  {
   "cell_type": "markdown",
   "metadata": {},
   "source": [
    "### Ejecución de guiones (scripts).\n",
    "\n",
    "Los scripts de R son archivos de texto que contienen código que será leído y ejecutado por el intérprete de R. Dichos archivos tiene la extensión ```.R```. Algunos editores de texto cuentan con reconocimiento de la sintaxis de R y utilizan colores para identificar sus componentes."
   ]
  },
  {
   "cell_type": "markdown",
   "metadata": {},
   "source": [
    "## Entornos de Desarrollo Integrado.\n",
    "\n",
    "Un Entorno de Desarrollo Integrado (IDE) es un conjunto de herramientas e interfaces que facilitan la programación y que están integrados por algunos de los siguientes elementos:\n",
    "* Editor.\n",
    "* Depurador.\n",
    "* Compilador.\n",
    "* Interfaz de ejecución.\n",
    "* Gestor de componentes.\n",
    "* Control de versiones."
   ]
  },
  {
   "cell_type": "markdown",
   "metadata": {},
   "source": [
    "### IDE's para R\n",
    "\n",
    "Entre los editores de texto e IDEs con soporte para R se cuentan Bluefish,22​Crimson Editor, ConTEXT, Eclipse,Emacs (Emacs Speaks Statistics), Geany, jEdit, Kate, RStudio, RKWard, Syn, TextMate, Tinn-R, Vim, gedit, SciTE, WinEdt (R Package RWinEdt), notepad++ y Visual Studio.\n",
    "\n",
    "Sweave es un procesador de documentos que puede ejecutar código de R incrustado en código de LaTeX y para insertar código, resultados y gráficos en el documento escrito en LaTeX. LyX puede usarse para crear y compilar documentos desarrollados en Sweave. El paquete odfWeave es similar, generando documentos en el formato OpenDocument (ODF); extensiones en estado experimental también permiten generar documentos del tipo presentación u hoja de cálculo."
   ]
  }
 ],
 "metadata": {
  "kernelspec": {
   "display_name": "R",
   "language": "R",
   "name": "ir"
  },
  "language_info": {
   "codemirror_mode": "r",
   "file_extension": ".r",
   "mimetype": "text/x-r-source",
   "name": "R",
   "pygments_lexer": "r",
   "version": "3.6.1"
  }
 },
 "nbformat": 4,
 "nbformat_minor": 2
}
