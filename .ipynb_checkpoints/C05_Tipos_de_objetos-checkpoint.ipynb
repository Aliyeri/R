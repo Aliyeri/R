{
 "cells": [
  {
   "cell_type": "markdown",
   "metadata": {},
   "source": [
    "<img src=\"logo.png\">"
   ]
  },
  {
   "cell_type": "markdown",
   "metadata": {},
   "source": [
    "## Preliminar: Generación de secuencias\n",
    "\n",
    "Las secuencias regulares se pueden formar con el operador ```:``` . Por ejemplo ```x<-1:10``` genera los enteros consecutivos del 1 al 10. El operador ```:```  **tiene prioridad sobre otros operadores aritmeticos en una expresión**. "
   ]
  },
  {
   "cell_type": "code",
   "execution_count": null,
   "metadata": {},
   "outputs": [],
   "source": [
    "(x<-1:10); (y<-1:10-3); (z<-3*1:10)"
   ]
  },
  {
   "cell_type": "markdown",
   "metadata": {},
   "source": [
    "La función ```seq``` puede generar secuencias de numeros reales. En general la sintaxis es ```seq(from = 1, to = 2019, by = ((to - from)/(length.out - 1)), length.out = NULL)```"
   ]
  },
  {
   "cell_type": "code",
   "execution_count": null,
   "metadata": {},
   "outputs": [],
   "source": [
    "seq(by=0.5,to=20,from=1)"
   ]
  },
  {
   "cell_type": "code",
   "execution_count": null,
   "metadata": {},
   "outputs": [],
   "source": [
    "seq(3,8,by=0.3)"
   ]
  },
  {
   "cell_type": "code",
   "execution_count": null,
   "metadata": {},
   "outputs": [],
   "source": [
    "seq(3,8,length.out=10)"
   ]
  },
  {
   "cell_type": "markdown",
   "metadata": {},
   "source": [
    "## Tipos de datos\n",
    "\n",
    "Cuando se trabaja con un software informático de estas características, es importante conocer que tipos de datos están disponibles, ya que será de gran importancia para nuestros propósitos futuros.\n",
    "\n",
    "En R, los tipos de datos más comunes son:\n",
    "\n",
    "**Lógico** Son datos que sólo permite los valores lógicos de verdadero (TRUE) o falso (FALSE).\n",
    "\n",
    "**Numérico** Son datos que pueden contener números reales.\n",
    "\n",
    "**Complejo** Son datos que pueden contener números complejos.\n",
    "\n",
    "**Caracter** Son datos que permiten introducir número y cualquier tipo de carácter.\n",
    "\n",
    "\n",
    "Para poder conocer que tipo de dato contiene un objeto, se usa la función ya definida en R, ```mode()``` o ```class()```."
   ]
  },
  {
   "cell_type": "code",
   "execution_count": null,
   "metadata": {},
   "outputs": [],
   "source": [
    "mode(1); class(1)"
   ]
  },
  {
   "cell_type": "code",
   "execution_count": null,
   "metadata": {},
   "outputs": [],
   "source": [
    "mode(1:3); class(1:3)"
   ]
  },
  {
   "cell_type": "code",
   "execution_count": null,
   "metadata": {},
   "outputs": [],
   "source": [
    "mode(1+2i); class(1+2i)"
   ]
  },
  {
   "cell_type": "code",
   "execution_count": null,
   "metadata": {},
   "outputs": [],
   "source": [
    "mode(\"hola\"); class(\"hola\")"
   ]
  },
  {
   "cell_type": "code",
   "execution_count": null,
   "metadata": {},
   "outputs": [],
   "source": [
    "u<-TRUE; mode(u); class(FALSE)"
   ]
  },
  {
   "cell_type": "markdown",
   "metadata": {},
   "source": [
    "## Datos lógicos\n",
    "\n",
    "El tipo ```logical``` es una especie de tipo numérico que es utilizado para evaluar expresiones lógicas y tiene dos valores: ```TRUE``` y ```FALSE```.\n",
    "\n",
    "* Si la expresión lógica es cierta, el resultado es ```TRUE```.\n",
    "* Si la expresión lógica NO es cierta, el resultado es ```FALSE```.\n"
   ]
  },
  {
   "cell_type": "markdown",
   "metadata": {},
   "source": [
    "## Datos numéricos\n",
    "\n",
    "Pueden ser **enteros** o **dobles**. Hay que tomar en cuenta de que la precisión de los números dependen en gran medida de la capacidad del equipo de cómputo, por lo que en ocasiones una operación con números de tipo doble no dará el resultado exacto, sino una aproximación. "
   ]
  },
  {
   "cell_type": "code",
   "execution_count": null,
   "metadata": {},
   "outputs": [],
   "source": [
    "1/3"
   ]
  },
  {
   "cell_type": "markdown",
   "metadata": {},
   "source": [
    "## Datos complejos\n",
    "\n",
    "Los datos de tipo ```complex``` corresponden al conjunto de los números complejos.\n",
    "\n",
    "Siempre que el componente en los números reales sea distinto de ```0```, los objetos de tipo ```complex``` se expresarán como un par de números de tipo ```doble``` separados por el operador de adición ```+```, en el que el primer número corresponde al componente en los números reales y el componente en los números imaginarios es identificado añadiéndole la letra ```i``` al final.\n",
    "\n",
    "La sintaxis estricta es la siguiente:\n",
    "\n",
    "\n",
    "* Cuando el componente imaginario es postivo.\n",
    "\n",
    "```\n",
    "<real>+<imaginario>i\n",
    "```\n",
    "\n",
    "* Cuando el componente imaginario es negativo.\n",
    "\n",
    "```\n",
    "<real>-<imaginario>i\n",
    "\n",
    "```\n",
    "\n",
    "* Cuando el componente real es igual a ```0```.\n",
    "\n",
    "```\n",
    "<imaginario>i\n",
    "```\n",
    "\n",
    "Los complejos pueden también ser declarados con la función ```complex()``` utilizando varios parámetros."
   ]
  },
  {
   "cell_type": "code",
   "execution_count": null,
   "metadata": {},
   "outputs": [],
   "source": [
    "complex(real=1:3,imaginary=4:6)"
   ]
  },
  {
   "cell_type": "code",
   "execution_count": null,
   "metadata": {},
   "outputs": [],
   "source": [
    "complex(modulus=2019,argument=2)"
   ]
  },
  {
   "cell_type": "markdown",
   "metadata": {},
   "source": [
    "Además, las características de los números complejos pueden ser recuperadas con funciones usuales"
   ]
  },
  {
   "cell_type": "code",
   "execution_count": null,
   "metadata": {},
   "outputs": [],
   "source": [
    "Re(1+2i); Im(1+2i)"
   ]
  },
  {
   "cell_type": "code",
   "execution_count": null,
   "metadata": {},
   "outputs": [],
   "source": [
    "Re(complex(modulus=4,argument=pi/3))"
   ]
  },
  {
   "cell_type": "code",
   "execution_count": null,
   "metadata": {},
   "outputs": [],
   "source": [
    "Mod(c(2+3i,3-4i)); Arg(2+3i)"
   ]
  },
  {
   "cell_type": "markdown",
   "metadata": {},
   "source": [
    "Además, al tratarse de elementos en un campo, se pueden realizar todas las operaciones usuales (suma, resta, multiplicación, división y potenciación)"
   ]
  },
  {
   "cell_type": "code",
   "execution_count": null,
   "metadata": {},
   "outputs": [],
   "source": [
    "(2+3i)^(4+3i)"
   ]
  },
  {
   "cell_type": "markdown",
   "metadata": {},
   "source": [
    "## Tipos de objetos (estructuras)"
   ]
  },
  {
   "cell_type": "markdown",
   "metadata": {},
   "source": [
    "Otro aspecto a tener en cuenta en R, es saber que es exactamente un objeto, ésto será el propósito que se desea explicar llegados a este punto.\n",
    "\n",
    "Para empezar, en R, casi todo lo que se manipula, son objetos, como definición más formal, todas las entidades que manipula R se conocen con el nombre de objetos. Por ejemplo, los vectores de números, reales o complejos, los vectores lógicos o los vectores de caracteres.\n",
    "\n"
   ]
  },
  {
   "cell_type": "markdown",
   "metadata": {},
   "source": [
    "Se muestran a continuación los atributos que pueden ser de información de los objetos:\n",
    "\n",
    "**Modo** Cualquier tipo de entidad que maneja R. Se usa la función: ```mode(objeto)```.\n",
    "\n",
    "**Tipo** Tipo de datos de los objetos: entero, carácter, double, etc. Se usa la función: ```typeof(objeto)```.\n",
    "\n",
    "**Nombres** Etiquetas de los elementos individuales de un vector o lista. Se usa la función: ```names(objeto)```.\n",
    "\n",
    "**Dimensiones** Dimensiones de los arrays (alguna puede ser cero). Se usa la función: ```dim(objeto)```. Esta función devuelve dos valores: el primero se refiere al número de filas, en tanto que el segundo es el número de columnas.\n",
    "\n",
    "**Dimnames** Nombres de las dimensiones de los arrays. Se usa la función: ```dimnames(objeto)```.\n",
    "\n",
    "**Clase** Vector alfanumérico con la lista de las clases del objeto. Se usa la función: ```class(objeto)```.\n"
   ]
  },
  {
   "cell_type": "markdown",
   "metadata": {},
   "source": [
    "Los atributos de un objeto suministran información específica sobre el propio objeto. Otro atributo de un objeto es su longitud. Las funciones ```mode()```, ya mencionada anteriormente, y ```length()``` se pueden utilizar para obtener el modo y longitud de cualquier estructura respectivamente."
   ]
  },
  {
   "cell_type": "code",
   "execution_count": null,
   "metadata": {},
   "outputs": [],
   "source": [
    "(z1<-complex(real=c(1,4),imaginary=c(2,3))); mode(z1); length(z1)"
   ]
  },
  {
   "cell_type": "markdown",
   "metadata": {},
   "source": [
    "## Tipos de objetos.\n",
    "\n",
    "La siguiente tabla resume los tipos de objetos y los datos que representan.\n",
    "\n",
    "|Objeto|Tipo|Combinable|\n",
    "|:-----------:|:--:|:--:|\n",
    "|vector|numérico, caracter, complejo, lógico|No|\n",
    "|factor|numérico o caracter |No|\n",
    "|arreglo|numérico, caracter, complejo o logico|No|\n",
    "|matriz| numérico, caracter, complejo o logico|No|\n",
    "|data.frame|numérico, caracter, complejo o logico|Sí|\n",
    "|ts|numérico, caracter, complejo o lógico|Sí|\n",
    "|lista|numérico, caracter, complejo, lógico,funcion, expresión, . . .|Sí|"
   ]
  },
  {
   "cell_type": "markdown",
   "metadata": {},
   "source": [
    "La característica de **combinable** hace referencia a si los tipos de datos dentro del objeto pueden ser de diferente tipo (Sí) o todos deben ser del mismo tipo (No)."
   ]
  },
  {
   "cell_type": "markdown",
   "metadata": {},
   "source": [
    "La función ```attributes(objeto)``` proporciona una lista de todos los atributos no intrínsecos definidos para el objeto en ese momento. La función ```attr(objeto, nombre)``` puede usarse para seleccionar un atributo específico.\n",
    "\n",
    "Estas funciones no se utilizan habitualmente, sino que se reservan para la creación de un nuevo atributo con fines específicos, por ejemplo, para asociar una fecha de creación o un operador con un objeto de R.\n",
    "\n",
    "Sin embargo, es un concepto muy importante que no debe olvidar. La asignación o eliminación de atributos de un objeto debe realizarse con precaución, ya que los atributos forman parte del sistema de objetos utilizados en R.\n",
    "\n"
   ]
  }
 ],
 "metadata": {
  "kernelspec": {
   "display_name": "R",
   "language": "R",
   "name": "ir"
  },
  "language_info": {
   "codemirror_mode": "r",
   "file_extension": ".r",
   "mimetype": "text/x-r-source",
   "name": "R",
   "pygments_lexer": "r",
   "version": "3.6.1"
  }
 },
 "nbformat": 4,
 "nbformat_minor": 2
}
