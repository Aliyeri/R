{
 "cells": [
  {
   "cell_type": "markdown",
   "metadata": {},
   "source": [
    "<img src=\"logo.png\">"
   ]
  },
  {
   "cell_type": "markdown",
   "metadata": {},
   "source": [
    "# Matrices y Dataframes\n",
    "\n",
    "## Arrays\n",
    "\n",
    "Un **array** una colección de datos, todos del mismo tipo, indexada por varios índices. R permite crear y manipular variables indexadas en general y en particular, matrices.\n",
    "\n",
    "Un vector de dimensiones es un vector de números enteros positivos. Si su longitud es $k$ entonces la variable indexada correspondiente es $k$–dimensional. Los elementos del vector de dimensiones indican los límites superiores de los $k$ índices. Los límites inferiores siempre valen 1.\n",
    "\n",
    "Un vector puede transformarse en una variable indexada cuando se asigna un vector de dimensiones al atributo ```dim```. \n"
   ]
  },
  {
   "cell_type": "code",
   "execution_count": null,
   "metadata": {},
   "outputs": [],
   "source": [
    "x<-c(1:60); dim(x)"
   ]
  },
  {
   "cell_type": "code",
   "execution_count": null,
   "metadata": {},
   "outputs": [],
   "source": [
    "dim(x)<-c(3,5,4) # Se le pedirá a R que los 60 elementos de x se coloquen en una caja de dimensiones 3x5x4"
   ]
  },
  {
   "cell_type": "code",
   "execution_count": null,
   "metadata": {},
   "outputs": [],
   "source": [
    "dim(x)"
   ]
  },
  {
   "cell_type": "markdown",
   "metadata": {},
   "source": [
    "De hecho, ambas instrucciones se pueden resumir con la función ```array()```. La sintaxis es ```array(vector de datos,dim=vector de dimensiones)```."
   ]
  },
  {
   "cell_type": "code",
   "execution_count": null,
   "metadata": {},
   "outputs": [],
   "source": [
    "y<-array(c(1:60),dim=c(3,5,4))"
   ]
  },
  {
   "cell_type": "markdown",
   "metadata": {},
   "source": [
    "## Elementos de un array\n",
    "\n",
    "Como con los vectores, los elementos de un array pueden llamarse utilizando corchetes indicando los índices correspondientes a cada una de las dimensiones. Si una dimensión se omite, R interpreta que se piden todos los elementos de esa dimensión respectiva."
   ]
  },
  {
   "cell_type": "code",
   "execution_count": null,
   "metadata": {},
   "outputs": [],
   "source": [
    "x[1,1,1]"
   ]
  },
  {
   "cell_type": "code",
   "execution_count": null,
   "metadata": {},
   "outputs": [],
   "source": [
    "x[1,2,3]"
   ]
  },
  {
   "cell_type": "code",
   "execution_count": null,
   "metadata": {},
   "outputs": [],
   "source": [
    "x[1,,3]"
   ]
  },
  {
   "cell_type": "code",
   "execution_count": null,
   "metadata": {},
   "outputs": [],
   "source": [
    "x[,,3]"
   ]
  },
  {
   "cell_type": "code",
   "execution_count": null,
   "metadata": {},
   "outputs": [],
   "source": [
    "x[,1,2]"
   ]
  },
  {
   "cell_type": "markdown",
   "metadata": {},
   "source": [
    "Un array puede utilizar no sólo un vector de índices, sino incluso otro array de índices, tanto para asignar un vector a una colección irregular de elementos de un array como para extraer una colección irregular de elementos."
   ]
  },
  {
   "cell_type": "code",
   "execution_count": null,
   "metadata": {},
   "outputs": [],
   "source": [
    "x<-array(c(1:20),dim=c(4,5))"
   ]
  },
  {
   "cell_type": "code",
   "execution_count": null,
   "metadata": {},
   "outputs": [],
   "source": [
    "(y<-array(c(1:3,3:1),dim=c(3,2)))\n"
   ]
  },
  {
   "cell_type": "code",
   "execution_count": null,
   "metadata": {},
   "outputs": [],
   "source": [
    "x[y]<-0"
   ]
  },
  {
   "cell_type": "code",
   "execution_count": null,
   "metadata": {},
   "outputs": [],
   "source": [
    "x"
   ]
  },
  {
   "cell_type": "markdown",
   "metadata": {},
   "source": [
    "Lo anterior también se puede hacer directamente:"
   ]
  },
  {
   "cell_type": "code",
   "execution_count": null,
   "metadata": {},
   "outputs": [],
   "source": [
    "x[1,3]<-2019; x[2,2]<-2020; x[3,1]<-2021"
   ]
  },
  {
   "cell_type": "code",
   "execution_count": null,
   "metadata": {},
   "outputs": [],
   "source": [
    "x"
   ]
  },
  {
   "cell_type": "markdown",
   "metadata": {},
   "source": [
    "Mediante la función```which()``` es posible hacer el procedimiento inverso. Esto es, recuperar índices. Su sintaxis general es ```which(x, arr.ind = FALSE)``` donde ```x``` es el vector o arreglo de donde se requiere recuperar los índices y ```arr.ind``` se cambia a ```TRUE``` si se requiere multiíndices (es decir, índices multidimensionales). "
   ]
  },
  {
   "cell_type": "code",
   "execution_count": null,
   "metadata": {},
   "outputs": [],
   "source": [
    "which(x>200,arr.ind=TRUE)"
   ]
  },
  {
   "cell_type": "code",
   "execution_count": null,
   "metadata": {},
   "outputs": [],
   "source": [
    "(Logaritmo<-log(c(-1,2,3)))"
   ]
  },
  {
   "cell_type": "code",
   "execution_count": null,
   "metadata": {},
   "outputs": [],
   "source": [
    "which(Logaritmo==\"NaN\")"
   ]
  },
  {
   "cell_type": "markdown",
   "metadata": {},
   "source": [
    "## Matrices\n",
    "\n",
    "Las matrices son arrays numéricos de dos dimensiones.\n",
    "\n",
    "## Operaciones con matrices\n",
    "\n",
    "R dispone de muchos operadores y funciones diseñados específicamente para matrices. Por ejemplo, ```t(X)``` es la matriz traspuesta de ```X```. Las funciones ```nrow``` y ```ncol``` devuelven el número de filas y de columnas de una matriz.\n"
   ]
  },
  {
   "cell_type": "markdown",
   "metadata": {},
   "source": [
    "Otras funciones especiales de matrices son las siguientes.\n",
    "\n",
    "* ```A%*%B``` es el producto usual de matrices y por lo tanto se requieren las reglas usuales sobre las dimensiones de ```A``` y ```B``` (el número de columnas de ```A``` debe ser igual al número de filas de ```B```).\n",
    "\n",
    "* ```A*B``` es el **producto de Hadamard** de estas matrices. Es decir, el producto entrada por entrada de las matrices. Matemáticamente, ```A``` y ```B``` deben tener las mismas dimensiones.\n",
    "\n",
    "* ```crossprod(A,B)``` que se define como ```t(A)%*%B```.\n",
    "\n",
    "* ```diag()``` que sirve para construir matrices diagonales.\n",
    "    1) Si su argumento es una matriz devuelve el vector con los elementos de su diagonal; \n",
    "    2) Si el argumento es un vector con mas de un elemento, devuelve una matriz diagonal cuyos elementos diagonales son los            elementos de dicho vector.\n",
    "    3) Si su argumento es un entero positivo $n$, devuelve la matriz identidad de tamaño $n\\times n$."
   ]
  },
  {
   "cell_type": "markdown",
   "metadata": {},
   "source": [
    "## Eigenvalores y eigenvectores\n",
    "\n",
    "R también permite, aunque de manera muy limitada, hacer cálculos propios del Álgebra Lineal. Por ejemplo, la función ```eigen()``` devuelve los autovalores y los autovectores de matrices simétricas. Esta función nos devuelve un objeto de tipo **eigen** con dos atributos: values y vectors. Así, ```eigen(X)$values``` devuelve el vector de eigenvalores de $X$ en tanto que ```eigen(X)$vectors``` devuelve una matrix donde la columna $k$ es un eigenvector correspondiente al $k$-ésimo eigenvalor con norma 1."
   ]
  },
  {
   "cell_type": "code",
   "execution_count": null,
   "metadata": {},
   "outputs": [],
   "source": []
  }
 ],
 "metadata": {
  "kernelspec": {
   "display_name": "R",
   "language": "R",
   "name": "ir"
  },
  "language_info": {
   "codemirror_mode": "r",
   "file_extension": ".r",
   "mimetype": "text/x-r-source",
   "name": "R",
   "pygments_lexer": "r",
   "version": "3.6.1"
  }
 },
 "nbformat": 4,
 "nbformat_minor": 2
}
