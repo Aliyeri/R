{
 "cells": [
  {
   "cell_type": "markdown",
   "metadata": {},
   "source": [
    "<img src=\"logo.png\">"
   ]
  },
  {
   "cell_type": "markdown",
   "metadata": {},
   "source": [
    "# Vectores"
   ]
  },
  {
   "cell_type": "markdown",
   "metadata": {},
   "source": [
    "## Operadores lógicos\n",
    "\n",
    "Los datos lógicos pueden ser únicamente de dos tipos: ```TRUE``` (verdadero) y ```FALSE``` (falso). \n",
    "\n",
    "Los operadores lógicos son ```<``` (menor), ```<=``` (menor o igual), ```>``` (mayor), ```>=``` (mayor o igual), ```==``` (igual), y ```!=``` (distinto). Además, si ```c1``` y ```c2``` son expresiones lógicas, entonces ```c1&c2``` es su \"y\"(conjunción), es decir \"c1 y c2\"; ```c1|c2``` es su \"o\" (disyunción), es decir \"c1 o c2\"; y ```!c1``` es la negación de ```c1```, es decir \"no c1\""
   ]
  },
  {
   "cell_type": "code",
   "execution_count": null,
   "metadata": {},
   "outputs": [],
   "source": [
    "2 > 13"
   ]
  },
  {
   "cell_type": "code",
   "execution_count": null,
   "metadata": {},
   "outputs": [],
   "source": [
    "2 <= 13"
   ]
  },
  {
   "cell_type": "code",
   "execution_count": null,
   "metadata": {},
   "outputs": [],
   "source": [
    "\"A\"!=\"a\"; \"A\"==\"a\""
   ]
  },
  {
   "cell_type": "code",
   "execution_count": null,
   "metadata": {},
   "outputs": [],
   "source": [
    "2+3==5"
   ]
  },
  {
   "cell_type": "markdown",
   "metadata": {},
   "source": [
    "## Tablas de la verdad\n",
    "\n",
    "|OR| True|False|\n",
    "|:--:|:--:|:--:|\n",
    "|**True**|True|True|\n",
    "|**False**|True|False|\n",
    "\n",
    "|NOR| True|False|\n",
    "|:--:|:--:|:--:|\n",
    "|**True**|False|False|\n",
    "|**False**|False|True|\n",
    "\n",
    "|AND| True|False|\n",
    "|:--:|:--:|:--:|\n",
    "|**True**|True|False|\n",
    "|**False**|False|False|"
   ]
  },
  {
   "cell_type": "code",
   "execution_count": null,
   "metadata": {},
   "outputs": [],
   "source": [
    "2<3 & 4==3+1"
   ]
  },
  {
   "cell_type": "code",
   "execution_count": null,
   "metadata": {},
   "outputs": [],
   "source": [
    "!2<3"
   ]
  },
  {
   "cell_type": "markdown",
   "metadata": {},
   "source": [
    "## Vectores numéricos\n",
    "\n",
    "R utiliza diferentes estructuras de datos. Los vectores numéricos son colecciones ordenada de números. Los números por sí mismos se consideran vectores de longitud 1.\n"
   ]
  },
  {
   "cell_type": "code",
   "execution_count": null,
   "metadata": {},
   "outputs": [],
   "source": [
    "x<-c(10.4,3,2019,2010,seq(15,30,by=0.5))"
   ]
  },
  {
   "cell_type": "code",
   "execution_count": null,
   "metadata": {},
   "outputs": [],
   "source": [
    "x"
   ]
  },
  {
   "cell_type": "code",
   "execution_count": null,
   "metadata": {},
   "outputs": [],
   "source": [
    "length(x)"
   ]
  },
  {
   "cell_type": "code",
   "execution_count": null,
   "metadata": {},
   "outputs": [],
   "source": [
    "length(2) #equivale a preguntar cuántos elementos tiene el vector c(2)"
   ]
  },
  {
   "cell_type": "code",
   "execution_count": null,
   "metadata": {},
   "outputs": [],
   "source": [
    "x[3]+2000"
   ]
  },
  {
   "cell_type": "code",
   "execution_count": null,
   "metadata": {},
   "outputs": [],
   "source": [
    "1/x"
   ]
  },
  {
   "cell_type": "code",
   "execution_count": null,
   "metadata": {},
   "outputs": [],
   "source": [
    "y<-c(x,rep(0,10),x+3) #rep(Z,n) significa crear un vector de n elementos todos iguales a Z\n"
   ]
  },
  {
   "cell_type": "code",
   "execution_count": null,
   "metadata": {},
   "outputs": [],
   "source": [
    "y"
   ]
  },
  {
   "cell_type": "code",
   "execution_count": null,
   "metadata": {},
   "outputs": [],
   "source": [
    "mode(y)"
   ]
  },
  {
   "cell_type": "code",
   "execution_count": null,
   "metadata": {},
   "outputs": [],
   "source": [
    "y<-c(y,\"hola\")"
   ]
  },
  {
   "cell_type": "code",
   "execution_count": null,
   "metadata": {},
   "outputs": [],
   "source": [
    "mode(y)"
   ]
  },
  {
   "cell_type": "code",
   "execution_count": null,
   "metadata": {},
   "outputs": [],
   "source": [
    "y+2"
   ]
  },
  {
   "cell_type": "code",
   "execution_count": null,
   "metadata": {},
   "outputs": [],
   "source": [
    "length(y)"
   ]
  },
  {
   "cell_type": "code",
   "execution_count": null,
   "metadata": {},
   "outputs": [],
   "source": [
    "y[81]"
   ]
  },
  {
   "cell_type": "code",
   "execution_count": null,
   "metadata": {},
   "outputs": [],
   "source": [
    "y[1:80]"
   ]
  },
  {
   "cell_type": "code",
   "execution_count": null,
   "metadata": {},
   "outputs": [],
   "source": [
    "z<-as.numeric(y[1:80]) #en general para convertir objetos de un tipo a otro compatible se usan las funciones as.(nombre del nuevo tipo)"
   ]
  },
  {
   "cell_type": "code",
   "execution_count": null,
   "metadata": {},
   "outputs": [],
   "source": [
    "as.numeric(TRUE)"
   ]
  },
  {
   "cell_type": "code",
   "execution_count": null,
   "metadata": {},
   "outputs": [],
   "source": [
    "z+2"
   ]
  },
  {
   "cell_type": "code",
   "execution_count": null,
   "metadata": {},
   "outputs": [],
   "source": [
    "x[c(5,7,10)]+c(2000,100,3)"
   ]
  },
  {
   "cell_type": "code",
   "execution_count": null,
   "metadata": {},
   "outputs": [],
   "source": [
    "x+z"
   ]
  },
  {
   "cell_type": "markdown",
   "metadata": {},
   "source": [
    "Los operadores aritméticos elementales son los habituales ```+```, ```-```, ```*```, ```/``` y ```^``` para elevar a una potencia. Además también se cuenta con la operación \"residuo\" que se invoca con ```%```.\n",
    "\n",
    "Otros ejemplos de funciones elementales son\n",
    "\n",
    "* ```exp()``` para calcular $e^x$; sin embargo, para $x$ grande esta función dará como resultado $\\infty$, representado en R con ```Inf``` (en principio, \"valores grandes\" para $\\exp(x)$ en R son $x\\ge710$).\n",
    "* ```log()``` para calcular $\\log(x)$.\n",
    "* ```sin()```, ```cos(x)```, ```tan()```, para calcular estas funciones trigonométricas con $x$ en radianes. Sin embargo, R no gusta de las funciones trigonométricas como tal por errores de aproximación. Se recomiendo utilizar las funciones ```sinpi()```, ```cospi(x)```, ```tanpi()``` (aquí, $\\mathrm{sinpi}(x)=\\sin(\\pi x)$ y análogamente con las demás). Las funciones trigonométricas inversas se obtienen pegando una a al nombre respectivo."
   ]
  },
  {
   "cell_type": "code",
   "execution_count": null,
   "metadata": {
    "scrolled": true
   },
   "outputs": [],
   "source": [
    "c(4,7,15)^3"
   ]
  },
  {
   "cell_type": "code",
   "execution_count": null,
   "metadata": {},
   "outputs": [],
   "source": [
    "3**2 #La potenciación también se puede hacer con **"
   ]
  },
  {
   "cell_type": "code",
   "execution_count": null,
   "metadata": {},
   "outputs": [],
   "source": [
    "c(1:20)%%3 # si x es un vector entonces x%%n es el vector de residuos que se obtiene al dividir\n",
    "        # cada elemento de x entre n"
   ]
  },
  {
   "cell_type": "code",
   "execution_count": null,
   "metadata": {},
   "outputs": [],
   "source": [
    "sin(2*pi) #nos debería arrojar 0 como resultado, pues sin(2pi)=0."
   ]
  },
  {
   "cell_type": "code",
   "execution_count": null,
   "metadata": {},
   "outputs": [],
   "source": [
    "sinpi(2)"
   ]
  },
  {
   "cell_type": "code",
   "execution_count": null,
   "metadata": {},
   "outputs": [],
   "source": [
    "### El siguiente código nos indica qué tan grandes (o pequeños) pueden ser los valores en R antes de que exp(n) sea Inf o 0\n",
    "\n",
    "n=1; m=1\n",
    "while(exp(n)!=Inf)\n",
    "    {n=n+1}\n",
    "n\n",
    "\n",
    "while(exp(m)!=0)\n",
    "    {m=m-1}\n",
    "m"
   ]
  },
  {
   "cell_type": "code",
   "execution_count": null,
   "metadata": {},
   "outputs": [],
   "source": [
    "w<-c(10.4,3,2019,2010,seq(15,30,by=0.5)); exp(w)"
   ]
  },
  {
   "cell_type": "markdown",
   "metadata": {},
   "source": [
    "## Funciones de vectores numéricos\n",
    "\n",
    "En general, todas las funciones anteriores pueden aplicarse a vectores numéricos sin ningún problema \"informático\" en tanto las operaciones tengan sentido matemático (esto es, que cada elemento del vector pertenezca al dominio de la función correspondiente). Si un elemento del vector no puede ser operado con una función, R lo sustituirá por la palabra ```NaN``` (Not a Number)."
   ]
  },
  {
   "cell_type": "code",
   "execution_count": null,
   "metadata": {},
   "outputs": [],
   "source": [
    "(Logaritmo<-log(c(-1,2,3)))"
   ]
  },
  {
   "cell_type": "markdown",
   "metadata": {},
   "source": [
    "Algunas funciones especiales para vectores son\n",
    "\n",
    "* ```max(x)``` y ```min(x)``` nos devuelven el máximo y mínimo, respectivamente, del vector numérico ```x```.\n",
    "* ```sum(x)``` y ```prod(x)``` nos devuelven la suma y el productor, respectivamente, de los elementos del vector numérico ```x```.\n",
    "* ```mean(x)``` y ```var(x)``` devuelven la media (promedio) y la cuasivarianza del vector ```x```. Recordemos que si $x=(x_1,x_2,\\cdots,x_n)$ entonces la media se define como $$\\overline{x}=\\frac{1}{n}\\sum_{j=1}^nx_j=\\frac{x_1+x_2+\\cdots+x_n}{n}$$ en tanto que la cuasivarianza es $$\\mathrm{cvar}(x)=\\frac{1}{n-1}\\sum_{j=1}^n(x_j-\\overline{x})^2$$\n",
    "\n",
    "\n",
    "Un estimador $\\hat{\\Theta}$ es **insesgado** si $\\mathbb{E}[\\hat{\\Theta}]=\\Theta$"
   ]
  },
  {
   "cell_type": "code",
   "execution_count": null,
   "metadata": {},
   "outputs": [],
   "source": [
    "max(c(1,2,2,3,4,4,4)); min(c(1,2,2,3,4,4,4))"
   ]
  },
  {
   "cell_type": "code",
   "execution_count": null,
   "metadata": {},
   "outputs": [],
   "source": [
    "sum(Logaritmo,na.rm=TRUE)==Logaritmo[2]+Logaritmo[3]"
   ]
  },
  {
   "cell_type": "code",
   "execution_count": null,
   "metadata": {},
   "outputs": [],
   "source": [
    "var(Logaritmo,na.rm=TRUE)"
   ]
  },
  {
   "cell_type": "markdown",
   "metadata": {},
   "source": [
    "También existe las función ```sort(x)``` que ordena los elementos del vector ```x``` de manera creciente, en tanto que ```order(x)``` devuelve la \"permutación\" para ordenarlos (es decir, ```order(x)``` nos dará el vector de índices correspondientes al ordenamiento de los elementos de ```x``` de menor a mayor)."
   ]
  },
  {
   "cell_type": "code",
   "execution_count": null,
   "metadata": {},
   "outputs": [],
   "source": [
    "sort(c(-2,2019,-8),); order(c(-2,2019,-8))"
   ]
  },
  {
   "cell_type": "code",
   "execution_count": null,
   "metadata": {},
   "outputs": [],
   "source": [
    "sort(c(-2,2019,-8), decreasing=TRUE)"
   ]
  },
  {
   "cell_type": "markdown",
   "metadata": {},
   "source": [
    "## Funciones de productos cartesianos de vectores numéricos\n",
    "\n",
    "En general, si ```X``` y ```Y``` son vectores numéricos, se puede utilizar la función ```outer(X,Y,\"Función\")``` para aplicar la función de dos variables \"Función\" a las parejas $(x,y)\\in X\\times Y$."
   ]
  },
  {
   "cell_type": "code",
   "execution_count": null,
   "metadata": {},
   "outputs": [],
   "source": [
    "a<-c(1,2,3); b<-c(4,5,6,7); outer(a,b,\"*\")"
   ]
  },
  {
   "cell_type": "code",
   "execution_count": null,
   "metadata": {},
   "outputs": [],
   "source": [
    "fun<-function(x,y){exp(x)+y^2};\n",
    "outer(a,b,\"fun\")"
   ]
  },
  {
   "cell_type": "markdown",
   "metadata": {},
   "source": [
    "## Selección de subvectores\n",
    "\n",
    "Si ```x``` es un vector (no necesariamente numérico, como veremos en breve), siempre se pueden seleccionar algunos de sus elementos mediante un vector de índices. Una vez seleccionados pueden modificarse estos elementos."
   ]
  },
  {
   "cell_type": "code",
   "execution_count": null,
   "metadata": {},
   "outputs": [],
   "source": [
    "(x<-seq(1,20,by=0.5))"
   ]
  },
  {
   "cell_type": "code",
   "execution_count": null,
   "metadata": {},
   "outputs": [],
   "source": [
    "x[c(2,6,7)]"
   ]
  },
  {
   "cell_type": "code",
   "execution_count": null,
   "metadata": {},
   "outputs": [],
   "source": [
    " x[c(2,6,7)]<-0; x"
   ]
  },
  {
   "cell_type": "code",
   "execution_count": null,
   "metadata": {},
   "outputs": [],
   "source": [
    "x[c(10,15,20)]<-c(2019,2020,2021)"
   ]
  },
  {
   "cell_type": "code",
   "execution_count": null,
   "metadata": {},
   "outputs": [],
   "source": [
    "x"
   ]
  },
  {
   "cell_type": "code",
   "execution_count": null,
   "metadata": {},
   "outputs": [],
   "source": [
    "x[(x>5.7)==TRUE]<-x[(x>5.7)==TRUE]-4"
   ]
  },
  {
   "cell_type": "code",
   "execution_count": null,
   "metadata": {},
   "outputs": [],
   "source": [
    "w[exp(w)==Inf]<-2*w[exp(w)==Inf]"
   ]
  },
  {
   "cell_type": "code",
   "execution_count": null,
   "metadata": {},
   "outputs": [],
   "source": [
    "x"
   ]
  },
  {
   "cell_type": "code",
   "execution_count": null,
   "metadata": {},
   "outputs": [],
   "source": [
    "w"
   ]
  },
  {
   "cell_type": "markdown",
   "metadata": {},
   "source": [
    "## Vectores de caracteres\n",
    "\n",
    "Las cadenas de caracteres, o frases, también son utilizadas en R, por ejemplo, para etiquetar gráficos. Una cadena de caracteres se construye escribiendo entre comillas la sucesión de caracteres que la define, por ejemplo, \"Estados Unidos Mexicanos\" o \"Aguascalientes\".\n"
   ]
  },
  {
   "cell_type": "code",
   "execution_count": null,
   "metadata": {},
   "outputs": [],
   "source": [
    "Estados<-c(\"Estados Unidos Mexicanos\", \"Aguascalientes\",\"Baja California\",\"Baja California Sur\",\"Campeche\",\n",
    "\"Coahuila de Zaragoza\",\"Colima\",\"Chiapas\",\"Chihuahua\",\"Distrito Federal\",\"Durango\",\"Guanajuato\",\"Guerrero\",\n",
    "\"Hidalgo\",\"Jalisco\",\"Estado de México\",\"Michoacán de Ocampo\",\"Morelos\",\"Nayarit\",\"Nuevo León\",\"Oaxaca\",\n",
    "\"Puebla\",\"Querétaro\",\"Quintana Roo\",\"San Luis Potosí\",\"Sinaloa\",\"Sonora\",\"Tabasco\",\"Tamaulipas\",\"Tlaxcala\",\n",
    "\"Veracruz de Ig0cio de la Llave\",\"Yucatán\",\"Zacatecas\")"
   ]
  },
  {
   "cell_type": "code",
   "execution_count": null,
   "metadata": {},
   "outputs": [],
   "source": [
    "Estados"
   ]
  },
  {
   "cell_type": "code",
   "execution_count": null,
   "metadata": {},
   "outputs": [],
   "source": [
    "Code<-c(1:33)"
   ]
  },
  {
   "cell_type": "code",
   "execution_count": null,
   "metadata": {},
   "outputs": [],
   "source": [
    "Code[1:9]<-paste0(0,Code[1:9],sep=\"\")"
   ]
  },
  {
   "cell_type": "code",
   "execution_count": null,
   "metadata": {},
   "outputs": [],
   "source": [
    "Code"
   ]
  },
  {
   "cell_type": "code",
   "execution_count": null,
   "metadata": {},
   "outputs": [],
   "source": [
    "Estados<-paste(Code,Estados,sep=\".\")"
   ]
  },
  {
   "cell_type": "code",
   "execution_count": null,
   "metadata": {},
   "outputs": [],
   "source": [
    "Estados"
   ]
  },
  {
   "cell_type": "markdown",
   "metadata": {},
   "source": [
    "## Subcadenas de texto\n",
    "\n",
    "En un vector de caracteres (o un texto) algunas ocasiones es necesario reobtener información. Para ello, contamos con las funciones ```substr()``` y ```substring()```. En ambas, es necesario conocer a partir de qué número de caracter se debe iniciar. La primera se ocupa cuando se conoce hasta dónde se van a sustraer los caracteres, en tanto que en la segunda no.\n",
    "\n",
    "Las sintaxis son ```substr(x,inicio,final)``` y ```substring(x,inicio,last=1000000L)```, donde ```x``` es un vector de caracteres."
   ]
  },
  {
   "cell_type": "code",
   "execution_count": null,
   "metadata": {},
   "outputs": [],
   "source": [
    "substring(Estados,4,last=1000000L)"
   ]
  },
  {
   "cell_type": "markdown",
   "metadata": {},
   "source": [
    "## La función eval( )\n",
    "\n",
    "Los objetos resultados de un paste son cadenas de texto. Muchas veces estas cadenas de texto deben ser a su vez evaluadas (por ejemplo, ```U=paste0(\"5\",\"+\",\"5\")``` da como resultado ```U=\"5+5\"```). Para hacer esto, utilizamos la función ```eval(expresión)```. Sin embargo, ```eval()``` evalúa una expresión y las expresiones en R son una *clase* especial de objetos. Como ```U``` es un objeto de clase caracter, es necesario convertirlo a un objeto de clase expresión. Esto se hace con la función ```parse(text=CARACTER QUE VAS A EVALUAR)```.\n",
    "\n",
    "Además, las expresiones en R se pueden crear con la función ```expression(x)```, donde ```x``` es típicamente un *llamado* o un *símbolo* \n"
   ]
  },
  {
   "cell_type": "code",
   "execution_count": null,
   "metadata": {},
   "outputs": [],
   "source": [
    "U<-paste0(\"5\",\"+\",\"5\"); U; class(U)"
   ]
  },
  {
   "cell_type": "code",
   "execution_count": null,
   "metadata": {},
   "outputs": [],
   "source": [
    "eval(parse(text=U))"
   ]
  },
  {
   "cell_type": "code",
   "execution_count": null,
   "metadata": {},
   "outputs": [],
   "source": [
    "V<-expression(2*2);V"
   ]
  },
  {
   "cell_type": "code",
   "execution_count": null,
   "metadata": {},
   "outputs": [],
   "source": [
    "eval(V)"
   ]
  },
  {
   "cell_type": "markdown",
   "metadata": {},
   "source": [
    "## Vectores lógicos\n",
    "\n",
    "Los vectores lógicos aparecen al utilizar condiciones. "
   ]
  },
  {
   "cell_type": "code",
   "execution_count": null,
   "metadata": {},
   "outputs": [],
   "source": [
    "a<-c(1:100); a>20"
   ]
  }
 ],
 "metadata": {
  "kernelspec": {
   "display_name": "R",
   "language": "R",
   "name": "ir"
  },
  "language_info": {
   "codemirror_mode": "r",
   "file_extension": ".r",
   "mimetype": "text/x-r-source",
   "name": "R",
   "pygments_lexer": "r",
   "version": "3.6.1"
  }
 },
 "nbformat": 4,
 "nbformat_minor": 2
}
