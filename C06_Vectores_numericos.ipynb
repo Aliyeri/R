{
 "cells": [
  {
   "cell_type": "markdown",
   "metadata": {},
   "source": [
    "<img src=\"logo.png\">"
   ]
  },
  {
   "cell_type": "markdown",
   "metadata": {},
   "source": [
    "# Vectores"
   ]
  },
  {
   "cell_type": "markdown",
   "metadata": {},
   "source": [
    "## Operadores lógicos\n",
    "\n",
    "Los datos lógicos pueden ser únicamente de dos tipos: ```TRUE``` (verdadero) y ```FALSE``` (falso). \n",
    "\n",
    "Los operadores lógicos son ```<``` (menor), ```<=``` (menor o igual), ```>``` (mayor), ```>=``` (mayor o igual), ```==``` (igual), y ```!=``` (distinto). Además, si ```c1``` y ```c2``` son expresiones lógicas, entonces ```c1&c2``` es su intersección (“conjunción”), ```c1|c2``` es su unión (“disyunción”) y ```!c1``` es la negación de ```c1```."
   ]
  },
  {
   "cell_type": "code",
   "execution_count": null,
   "metadata": {},
   "outputs": [],
   "source": [
    "2 > 13"
   ]
  },
  {
   "cell_type": "code",
   "execution_count": null,
   "metadata": {},
   "outputs": [],
   "source": [
    "2 <= 13"
   ]
  },
  {
   "cell_type": "code",
   "execution_count": null,
   "metadata": {},
   "outputs": [],
   "source": [
    "\"A\"!=\"a\""
   ]
  },
  {
   "cell_type": "code",
   "execution_count": null,
   "metadata": {},
   "outputs": [],
   "source": [
    "2+3==5"
   ]
  },
  {
   "cell_type": "markdown",
   "metadata": {},
   "source": [
    "## Tablas de la verdad\n",
    "\n",
    "|OR| True|False|\n",
    "|:--:|:--:|:--:|\n",
    "|**True**|True|True|\n",
    "|**False**|True|False|\n",
    "\n",
    "|NOR| True|False|\n",
    "|:--:|:--:|:--:|\n",
    "|**True**|False|False|\n",
    "|**False**|False|True|\n",
    "\n",
    "|AND| True|False|\n",
    "|:--:|:--:|:--:|\n",
    "|**True**|True|False|\n",
    "|**False**|False|False|"
   ]
  },
  {
   "cell_type": "code",
   "execution_count": null,
   "metadata": {},
   "outputs": [],
   "source": [
    "2<3 & 4==2+2"
   ]
  },
  {
   "cell_type": "code",
   "execution_count": null,
   "metadata": {},
   "outputs": [],
   "source": [
    "!2<3"
   ]
  },
  {
   "cell_type": "markdown",
   "metadata": {},
   "source": [
    "## Vectores numéricos\n",
    "\n",
    "R utiliza diferentes estructuras de datos. La estructura más simple es el vector, que es una colección ordenada de números. Los números por sí mismos se consideran vectores de longitud 1.\n"
   ]
  },
  {
   "cell_type": "code",
   "execution_count": null,
   "metadata": {},
   "outputs": [],
   "source": [
    "TRUE & TRUE"
   ]
  },
  {
   "cell_type": "code",
   "execution_count": null,
   "metadata": {},
   "outputs": [],
   "source": [
    "x<-c(10.4,3,2019,2010,seq(15,30,by=0.5))"
   ]
  },
  {
   "cell_type": "code",
   "execution_count": null,
   "metadata": {},
   "outputs": [],
   "source": [
    "x"
   ]
  },
  {
   "cell_type": "code",
   "execution_count": null,
   "metadata": {},
   "outputs": [],
   "source": [
    "length(x)"
   ]
  },
  {
   "cell_type": "code",
   "execution_count": null,
   "metadata": {},
   "outputs": [],
   "source": [
    "length(2)"
   ]
  },
  {
   "cell_type": "code",
   "execution_count": null,
   "metadata": {},
   "outputs": [],
   "source": [
    "x+2000"
   ]
  },
  {
   "cell_type": "code",
   "execution_count": null,
   "metadata": {},
   "outputs": [],
   "source": [
    "1/x"
   ]
  },
  {
   "cell_type": "code",
   "execution_count": null,
   "metadata": {},
   "outputs": [],
   "source": [
    "y<-c(x,rep(0,10),x+3)"
   ]
  },
  {
   "cell_type": "code",
   "execution_count": null,
   "metadata": {},
   "outputs": [],
   "source": [
    "y"
   ]
  },
  {
   "cell_type": "code",
   "execution_count": null,
   "metadata": {},
   "outputs": [],
   "source": [
    "mode(y)"
   ]
  },
  {
   "cell_type": "code",
   "execution_count": null,
   "metadata": {},
   "outputs": [],
   "source": [
    "y<-c(y,\"hola\")"
   ]
  },
  {
   "cell_type": "code",
   "execution_count": null,
   "metadata": {},
   "outputs": [],
   "source": [
    "mode(y)"
   ]
  },
  {
   "cell_type": "code",
   "execution_count": null,
   "metadata": {},
   "outputs": [],
   "source": [
    "y+2"
   ]
  },
  {
   "cell_type": "code",
   "execution_count": null,
   "metadata": {},
   "outputs": [],
   "source": [
    "length(y)"
   ]
  },
  {
   "cell_type": "code",
   "execution_count": null,
   "metadata": {},
   "outputs": [],
   "source": [
    "y[81]"
   ]
  },
  {
   "cell_type": "code",
   "execution_count": null,
   "metadata": {},
   "outputs": [],
   "source": [
    "y[1:80]"
   ]
  },
  {
   "cell_type": "code",
   "execution_count": null,
   "metadata": {},
   "outputs": [],
   "source": [
    "z<-as.numeric(y[1:80])"
   ]
  },
  {
   "cell_type": "code",
   "execution_count": null,
   "metadata": {},
   "outputs": [],
   "source": [
    "z"
   ]
  },
  {
   "cell_type": "code",
   "execution_count": null,
   "metadata": {},
   "outputs": [],
   "source": [
    "z<-as.numeric(y[1:80])"
   ]
  },
  {
   "cell_type": "code",
   "execution_count": null,
   "metadata": {},
   "outputs": [],
   "source": [
    "z"
   ]
  },
  {
   "cell_type": "code",
   "execution_count": null,
   "metadata": {},
   "outputs": [],
   "source": [
    "x+z"
   ]
  },
  {
   "cell_type": "markdown",
   "metadata": {},
   "source": [
    "Los operadores aritméticos elementales son los habituales ```+```, ```-```, ```*```, ```/``` y ```^``` para elevar a una potencia. Otros ejemplos de funciones elementales son\n",
    "\n",
    "* ```exp()``` para calcular $e^x$; sin embargo, para $x$ esta función dará como resultado $\\infty$, representado en R con ```Inf``` (en principio, \"valores grandes\" para $\\exp(x)$ en R son $x\\ge710$).\n",
    "* ```log()``` para calcular $\\log(x)$.\n",
    "* ```sin()```, ```cos(x)```, ```tan()```, para calcular estas funciones trigonométricas con $x$ en radianes. Sin embargo, R no gusta de las funciones trigonométricas como tal por errores de aproximación. Se recomiendo utilizar las funciones ```sinpi()```, ```cospi(x)```, ```tanpi()``` (aquí, $\\mathrm{sinpi}(x)=\\sin(\\pi x)$ y análogamente con las demás)."
   ]
  },
  {
   "cell_type": "code",
   "execution_count": null,
   "metadata": {},
   "outputs": [],
   "source": [
    "sin(2*pi) #nos debería arrojar 0 como resultado, pues sin(2pi)=0."
   ]
  },
  {
   "cell_type": "code",
   "execution_count": null,
   "metadata": {},
   "outputs": [],
   "source": [
    "sinpi(2)"
   ]
  },
  {
   "cell_type": "code",
   "execution_count": null,
   "metadata": {},
   "outputs": [],
   "source": [
    "### El siguiente código nos indica qué tan grandes (o pequeños) pueden ser los valores en R antes de que exp(n) sea Inf o 0\n",
    "\n",
    "n=1; m=1\n",
    "while(exp(n)!=Inf)\n",
    "    {n=n+1}\n",
    "n\n",
    "\n",
    "while(exp(m)!=0)\n",
    "    {m=m-1}\n",
    "m"
   ]
  },
  {
   "cell_type": "code",
   "execution_count": null,
   "metadata": {},
   "outputs": [],
   "source": [
    "w<-c(10.4,3,2019,2010,seq(15,30,by=0.5)); exp(w)"
   ]
  },
  {
   "cell_type": "markdown",
   "metadata": {},
   "source": [
    "## Funciones de vectores numéricos\n",
    "\n",
    "En general, todas las funciones anteriores pueden aplicarse a vectores numéricos sin ningún problema \"informático\" en tanto las operaciones tengan sentido matemático (esto es, que cada elemento del vector pertenezca al dominio de la función correspondiente). Si un elemento del vector no puede ser operado con una función, R lo sustituirá por la palabra ```NaN``` (Not a Number)."
   ]
  },
  {
   "cell_type": "code",
   "execution_count": null,
   "metadata": {},
   "outputs": [],
   "source": [
    "(Logaritmo<-log(c(-1,2,3)))"
   ]
  },
  {
   "cell_type": "markdown",
   "metadata": {},
   "source": [
    "Algunas funciones especiales para vectores son\n",
    "\n",
    "* ```max(x)``` y ```min(x)``` nos devuelven el máximo y mínimo, respectivamente, del vector numérico ```x```.\n",
    "* ```sum(x)``` y ```prod(x)``` nos devuelven la suma y el productor, respectivamente, de los elementos del vector numérico ```x```.\n",
    "* ```mean(x)``` y ```var(x)``` devuelven la media (promedio) y la cuasivarianza del vector ```x```. Recordemos que si $x=(x_1,x_2,\\cdots,x_n)$ entonces la media se define como $$\\overline{x}=\\frac{1}{n}\\sum_{j=1}^nx_j=\\frac{x_1+x_2+\\cdots+x_n}{n}$$ en tanto que la cuasivarianza es $$\\mathrm{cvar}(x)=\\frac{1}{n-1}\\sum_{j=1}^n(x_j-\\overline{x})^2$$"
   ]
  },
  {
   "cell_type": "markdown",
   "metadata": {},
   "source": [
    "También existe las función ```sort(x)``` que ordena los elementos del vector ```x``` de manera creciente, en tanto que ```order(x)``` devuelve la \"permutación\" para ordenarlos (es decir, ```order(x)``` nos dará el vector de índices correspondientes al ordenamiento de los elementos de ```x``` de menor a mayor)."
   ]
  },
  {
   "cell_type": "code",
   "execution_count": null,
   "metadata": {},
   "outputs": [],
   "source": [
    "sort(c(-2,2019,-8)); order(c(-2,2019,-8))"
   ]
  },
  {
   "cell_type": "markdown",
   "metadata": {},
   "source": [
    "## Selección de subvectores\n",
    "\n",
    "Si ```x``` es un vector (no necesariamente numérico, como veremos en breve), siempre se pueden seleccionar algunos de sus elementos mediante un vector de índices. Una vez seleccionados pueden modificarse estos elementos."
   ]
  },
  {
   "cell_type": "code",
   "execution_count": null,
   "metadata": {},
   "outputs": [],
   "source": [
    "(x<-seq(1,20,by=0.5))"
   ]
  },
  {
   "cell_type": "code",
   "execution_count": null,
   "metadata": {},
   "outputs": [],
   "source": [
    "x[c(2,6,7)]"
   ]
  },
  {
   "cell_type": "code",
   "execution_count": null,
   "metadata": {},
   "outputs": [],
   "source": [
    " x[c(2,6,7)]<-0; x"
   ]
  },
  {
   "cell_type": "code",
   "execution_count": null,
   "metadata": {},
   "outputs": [],
   "source": [
    "x[c(10,15,20)]<-c(2019,2020,2021)"
   ]
  },
  {
   "cell_type": "code",
   "execution_count": null,
   "metadata": {},
   "outputs": [],
   "source": [
    "x"
   ]
  },
  {
   "cell_type": "code",
   "execution_count": null,
   "metadata": {},
   "outputs": [],
   "source": [
    "w[exp(w)==Inf]"
   ]
  },
  {
   "cell_type": "markdown",
   "metadata": {},
   "source": [
    "## Vectores de caracteres\n",
    "\n",
    "Las cadenas de caracteres, o frases, también son utilizadas en R, por ejemplo, para etiquetar gráficos. Una cadena de caracteres se construye escribiendo entre comillas la sucesión de caracteres que la define, por ejemplo, \"Estados Unidos Mexicanos\" o \"Aguascalientes\".\n"
   ]
  },
  {
   "cell_type": "code",
   "execution_count": null,
   "metadata": {},
   "outputs": [],
   "source": [
    "Estados<-c(\"Estados Unidos Mexicanos\", \"Aguascalientes\",\"Baja California\",\"Baja California Sur\",\"Campeche\",\n",
    "\"Coahuila de Zaragoza\",\"Colima\",\"Chiapas\",\"Chihuahua\",\"Distrito Federal\",\"Durango\",\"Guanajuato\",\"Guerrero\",\n",
    "\"Hidalgo\",\"Jalisco\",\"Estado de México\",\"Michoacán de Ocampo\",\"Morelos\",\"Nayarit\",\"Nuevo León\",\"Oaxaca\",\n",
    "\"Puebla\",\"Querétaro\",\"Quintana Roo\",\"San Luis Potosí\",\"Sinaloa\",\"Sonora\",\"Tabasco\",\"Tamaulipas\",\"Tlaxcala\",\n",
    "\"Veracruz de Ig0cio de la Llave\",\"Yucatán\",\"Zacatecas\")"
   ]
  },
  {
   "cell_type": "code",
   "execution_count": null,
   "metadata": {},
   "outputs": [],
   "source": [
    "Estados"
   ]
  },
  {
   "cell_type": "code",
   "execution_count": null,
   "metadata": {},
   "outputs": [],
   "source": [
    "Code<-c(1:33)"
   ]
  },
  {
   "cell_type": "code",
   "execution_count": null,
   "metadata": {},
   "outputs": [],
   "source": [
    "Code[1:9]<-paste0(0,Code[1:9],sep=\"\")"
   ]
  },
  {
   "cell_type": "code",
   "execution_count": null,
   "metadata": {},
   "outputs": [],
   "source": [
    "Code"
   ]
  },
  {
   "cell_type": "code",
   "execution_count": null,
   "metadata": {},
   "outputs": [],
   "source": [
    "Estados<-paste(Code,Estados,sep=\".\")"
   ]
  },
  {
   "cell_type": "code",
   "execution_count": null,
   "metadata": {},
   "outputs": [],
   "source": [
    "Estados"
   ]
  },
  {
   "cell_type": "markdown",
   "metadata": {},
   "source": [
    "## Vectores lógicos\n",
    "\n",
    "Los vectores lógicos aparecen al utilizar condiciones. "
   ]
  },
  {
   "cell_type": "code",
   "execution_count": null,
   "metadata": {},
   "outputs": [],
   "source": [
    "a<-c(1:100); a>20"
   ]
  }
 ],
 "metadata": {
  "kernelspec": {
   "display_name": "R",
   "language": "R",
   "name": "ir"
  },
  "language_info": {
   "codemirror_mode": "r",
   "file_extension": ".r",
   "mimetype": "text/x-r-source",
   "name": "R",
   "pygments_lexer": "r",
   "version": "3.6.1"
  }
 },
 "nbformat": 4,
 "nbformat_minor": 2
}
