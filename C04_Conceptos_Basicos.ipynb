{
 "cells": [
  {
   "cell_type": "markdown",
   "metadata": {},
   "source": [
    "<img src=\"logo.png\">"
   ]
  },
  {
   "cell_type": "markdown",
   "metadata": {},
   "source": [
    "## Objetos\n",
    "\n",
    "En R, todo es un objeto. Todos los datos y estructuras de datos son objetos. Además, todos los objetos tienen un nombre para identificarlos.\n",
    "\n",
    "Esto se relaciona con el paradigma de programación [orientada a objetos](https://www.ecured.cu/Programaci%C3%B3n_Orientada_a_Objetos) y ese es todo un tema en sí mismo.\n",
    "\n",
    "Lo importante es que recuerdes que al hablar de un objeto, estamos hablando de cualquier cosa que existe en R y que tiene un nombre."
   ]
  },
  {
   "cell_type": "markdown",
   "metadata": {},
   "source": [
    "## Constantes y variables\n",
    "\n",
    "De manera análoga al uso de estos términos en lenguaje matemático, una constante es un objeto cuyo valor no podemos cambiar, en contraste, una variable es un objeto que puede cambiar de valor.\n",
    "\n",
    "Por ejemplo, en la expresión $$A=\\pi r^2,$$ $\\pi$ y $2$ son constantes, mientras que $A$ y $r$ son variables.\n",
    " \n",
    "\n",
    "Las constantes y variables en R tienen nombres que nos permiten hacer referencia a ellas en operaciones.\n",
    "\n",
    "Las constantes ya están establecidas por R, mientras que nosotros podemos crear variables, asignándoles valores a nombres. **Precaución:** es posible cambiar valores predeterminados para ciertas constantes en R, como $\\pi$, pero es una práctica nada recomendable.\n",
    "\n",
    "Es recomendable que al crear una variable usemos nombres claros, no ambiguos y descriptivos. Esto previene confusión y hace que nuestro código sea más fácil de comprender por otras personas o por nosotros mismos en el futuro.\n",
    "\n",
    "Los nombres de las variables pueden incluir letras, números, puntos y guiones bajos. Deben empezar siempre con una letra o un punto y si empiezan con un punto, a este no puede seguirle un número.\n",
    "\n",
    "Finalmente, cuando te encuentres con un renglón de código que inicia con un gato (hashtag), esto representa un comentario, es código que no se ejecutará, sólo se mostrará."
   ]
  },
  {
   "cell_type": "markdown",
   "metadata": {},
   "source": [
    "**Ejemplo**"
   ]
  },
  {
   "cell_type": "code",
   "execution_count": null,
   "metadata": {},
   "outputs": [],
   "source": [
    "r=5\n",
    "Area=pi*r^2"
   ]
  },
  {
   "cell_type": "code",
   "execution_count": null,
   "metadata": {},
   "outputs": [],
   "source": [
    "Area"
   ]
  },
  {
   "cell_type": "markdown",
   "metadata": {},
   "source": [
    "## Funciones (introducción básica)\n",
    "\n",
    "Una función es una serie de operaciones a la que les hemos asignados un nombre. Las funciones aceptan argumentos, es decir, especificaciones sobre cómo deben funcionar.\n",
    "\n",
    "Cuando llamamos una función, se realizan las operaciones que contiene, usando los argumentos que hemos establecido.\n",
    "\n",
    "En R reconocemos a una función usando la notación: nombre_de_la_función(). Por ejemplo:\n",
    "\n",
    "```\n",
    "mean()\n",
    "quantile()\n",
    "summary()\n",
    "density()\n",
    "c()```\n",
    "Al igual que con las variables, se recomienda que los nombres de las funciones sean claros, no ambiguos y descriptivos. Idealmente, el nombre de una función describe lo que hace. De hecho, es probable que adivines qué hacen casi todas funciones de la lista de arriba a partir de su nombre.\n",
    "\n"
   ]
  },
  {
   "cell_type": "code",
   "execution_count": null,
   "metadata": {},
   "outputs": [],
   "source": [
    "mean(1:2019)"
   ]
  },
  {
   "cell_type": "code",
   "execution_count": null,
   "metadata": {},
   "outputs": [],
   "source": [
    "A<-data.frame(\"U\"=c(1:10),\"V\"=c(2:11))"
   ]
  },
  {
   "cell_type": "code",
   "execution_count": null,
   "metadata": {},
   "outputs": [],
   "source": [
    "A"
   ]
  },
  {
   "cell_type": "code",
   "execution_count": null,
   "metadata": {},
   "outputs": [],
   "source": [
    "sum(A)"
   ]
  },
  {
   "cell_type": "markdown",
   "metadata": {},
   "source": [
    "## Directorio de trabajo\n",
    "\n",
    "El directorio o carpeta de trabajo es el lugar en nuestra computadora en el que se encuentran los archivos con los que estamos trabajando en R. Este es el lugar donde R buscara archivos para importarlos y al que serán exportados, a menos que indiquemos otra cosa.\n",
    "\n",
    "Puedes encontrar cuál es tu directorio de trabajo con la función ```getwd()```. Sólo tienes que escribir la función en la consola y ejecutarla. Se mostrará en la consola la ruta del directorio que está usando R."
   ]
  },
  {
   "cell_type": "code",
   "execution_count": null,
   "metadata": {},
   "outputs": [],
   "source": [
    "getwd()"
   ]
  },
  {
   "cell_type": "markdown",
   "metadata": {},
   "source": [
    "Puedes cambiar el directorio de trabajo usando la función ```setwd()```, dando como argumento la ruta del directorio que quieres usar."
   ]
  },
  {
   "cell_type": "code",
   "execution_count": null,
   "metadata": {},
   "outputs": [],
   "source": [
    "setwd(\"C:/otro_directorio\") # Como separador usamos doble diagonal \\\\ o diagonal invertida /"
   ]
  },
  {
   "cell_type": "markdown",
   "metadata": {},
   "source": [
    "Por último, si deseas conocer el contenido de tu directorio de trabajo, puedes ejecutar. la función ```list.files()```, sin argumentos, que devolverá una lista con el nombre de los archivos de tu directorio de trabajo. La función ```list.dirs()```, también sin argumentos te dará una lista de los directorios dentro del directorio de trabajo."
   ]
  },
  {
   "cell_type": "code",
   "execution_count": null,
   "metadata": {},
   "outputs": [],
   "source": [
    "# Ver archivos\n",
    "list.files()\n",
    "\n",
    "# Ver directorios\n",
    "list.dirs()"
   ]
  },
  {
   "cell_type": "markdown",
   "metadata": {},
   "source": [
    "## Sesión\n",
    "\n",
    "Los objetos y funciones de R son almacenados en la memoria RAM de nuestra computadora.\n",
    "\n",
    "Cuando ejecutamos R estamos creando una instancia del entorno computacional de este lenguaje de programación. Cada instancia es una sesión.\n",
    "\n",
    "Todos los objetos y funciones creadas en una sesión permanecen sólo en ella y no son compartidos entre sesiones; sin embargo una sesión puede tener el mismo directorio de trabajo que otra sesión.\n",
    "\n",
    "Es posible tener más de una sesión de R activa en la misma computadora.\n",
    "\n",
    "Cuando cerramos R, también cerramos nuestra sesión. Se nos preguntará si deseamos guardar el contenido de nuestra sesión para poder volver a ella después. Esto se guarda en un archivo con extensión **.Rdata** en tu directorio de trabajo.\n",
    "\n",
    "Para conocer los objetos y funciones que contiene nuestra sesión, usamos la función ```ls()```, que nos devolverá una lista con los nombres de todo lo guardado en la sesión.\n",
    "\n",
    "De manera más precisa, nuestra sesión es un entorno de trabajo y los objetos pertenecen a un entorno específico.\n"
   ]
  },
  {
   "cell_type": "code",
   "execution_count": null,
   "metadata": {},
   "outputs": [],
   "source": [
    "ls()"
   ]
  },
  {
   "cell_type": "code",
   "execution_count": null,
   "metadata": {},
   "outputs": [],
   "source": []
  }
 ],
 "metadata": {
  "kernelspec": {
   "display_name": "R",
   "language": "R",
   "name": "ir"
  },
  "language_info": {
   "codemirror_mode": "r",
   "file_extension": ".r",
   "mimetype": "text/x-r-source",
   "name": "R",
   "pygments_lexer": "r",
   "version": "3.6.1"
  }
 },
 "nbformat": 4,
 "nbformat_minor": 2
}
