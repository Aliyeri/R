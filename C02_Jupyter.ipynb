{
 "cells": [
  {
   "cell_type": "markdown",
   "metadata": {},
   "source": [
    "<img src=\"logo.png\">"
   ]
  },
  {
   "cell_type": "markdown",
   "metadata": {},
   "source": [
    "# IPython y Jupyter."
   ]
  },
  {
   "cell_type": "markdown",
   "metadata": {},
   "source": [
    "## El proyecto *IPython*.\n",
    "\n",
    "El proyecto [*IPython*](https://ipython.org/) es un entorno (shell) interactivo de Python que extiende las funcionalidades del intérprete interactivo de Python, permitiendo entre otras cosas:\n",
    "\n",
    "* Coloreado del código.\n",
    "* Autocompletado de comandos.\n",
    "* Historial de comandos.\n",
    "* Cómputo paralelo y concurrente.\n",
    "* Capacidad de desplegar los gráficos generados por *Matplotlib* en la misma ventana.\n",
    "\n",
    "*IPython* puede ser accedido desde 3 interfaces:\n",
    "\n",
    "* Un shell dentro de una terminal de texto. \n",
    "* Una shell dentro de una aplicación de escritorio basada en la biblioteca [*QT*](https://www.qt.io/).\n",
    "* Una notebook de *Jupyter*."
   ]
  },
  {
   "cell_type": "markdown",
   "metadata": {},
   "source": [
    "## El proyecto *Jupyter*.\n",
    "\n",
    "En el proceso de desarrollo de *IPython* se creó una interfaz basada en web capaz de ofrecer las funcionalidades de *IPython* de forma más amigable.\n",
    "\n",
    "La interfaz web de *IPython* evolucionó de tal forma que la matéfora de una libreta o \"notebook\" no sólo podía conectarse a un intérprete de *IPython*, sino que podía adapatarse a otros lenguajes de programación mediante \"kernels\". Es así que a partir de *IPython* surgió el proyecto [*Jupyter*](https://jupyter.org/) (su nombre es una abreviaciónn de *JUlia*, *PYThon* y *R*).\n",
    "\n",
    "*Jupyter* es servidor web capaz de desplegar una interfaz que incluye:\n",
    "\n",
    "* Un gestor de archivos.\n",
    "* Editor de texto.\n",
    "* Un emulador de terminal.\n",
    "* Entornos interactivos basados en notebooks.\n",
    "* Un gestor de notebooks.\n",
    "\n",
    "### Las notebooks.\n",
    "\n",
    "Las notebooks de *Jupyter* pueden combinar do tipos primordiales de celdas:\n",
    "* Celdas de texto capaces de desplegar código basado en la sintaxis de [*Markdown*](https://markdown.es/).\n",
    "* Celdas de código ejecutable concapacidad de desplegar gráficos e imágenes, entre otras muchas funcionalidades.\n",
    "\n",
    "*Jupyter* puede mantener múltiples notebooks y terminales ejecutándose simultáneamente e incluso generar clusters de servidores para cómputo intensivo.\n",
    "\n",
    "Actualmente las notebooks de *Jupyter* soportan [kernels de diversos lenguajes](https://github.com/jupyter/jupyter/wiki/Jupyter-kernels).\n",
    "\n",
    "Las notebooks de *Jupyter* pueden ser exportadas en múltiples formatos, tales como *HTML*, *PDF*, *reST*, *LaTeX* e incluso como un formato de diapositivas en línea utilizando [Reveal.js](https://revealjs.com).\n",
    "\n",
    "Todos los apuntes de este curso son notebooks de Jupyter que utilizan el kernel de IPython.\n",
    "\n",
    "Las notebooks de Jupyter son interfaces basada en web capaces de ejecutar comandos por medio de un \"kernel\", el cual permite ligar a la interfaz con un intérprete específico.\n",
    "\n",
    "El \"kernel\" de IPython es el kernel que utiliza Jupyter por defecto y corresponde a un intérprete avanzado de Python, en tanto que el kernel de R para Jupyter puede ser conectado fácilmente desde el navegador de Jupyter."
   ]
  }
 ],
 "metadata": {
  "kernelspec": {
   "display_name": "R",
   "language": "R",
   "name": "ir"
  },
  "language_info": {
   "codemirror_mode": "r",
   "file_extension": ".r",
   "mimetype": "text/x-r-source",
   "name": "R",
   "pygments_lexer": "r",
   "version": "3.6.1"
  }
 },
 "nbformat": 4,
 "nbformat_minor": 2
}
