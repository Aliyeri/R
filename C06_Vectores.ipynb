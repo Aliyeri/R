{
 "cells": [
  {
   "cell_type": "markdown",
   "metadata": {},
   "source": [
    "<img src=\"logo.png\">"
   ]
  },
  {
   "cell_type": "markdown",
   "metadata": {},
   "source": [
    "# Vectores"
   ]
  },
  {
   "cell_type": "markdown",
   "metadata": {},
   "source": [
    "## Operadores lógicos\n",
    "\n",
    "Los datos lógicos pueden ser únicamente de dos tipos: ```TRUE``` (verdadero) y ```FALSE``` (falso). \n",
    "\n",
    "Los operadores lógicos son ```<``` (menor), ```<=``` (menor o igual), ```>``` (mayor), ```>=``` (mayor o igual), ```==``` (igual), y ```!=``` (distinto). Además, si ```c1``` y ```c2``` son expresiones lógicas, entonces ```c1&c2``` es su \"y\"(conjunción), es decir \"c1 y c2\"; ```c1|c2``` es su \"o\" (disyunción), es decir \"c1 o c2\"; y ```!c1``` es la negación de ```c1```, es decir \"no c1\""
   ]
  },
  {
   "cell_type": "code",
   "execution_count": null,
   "metadata": {},
   "outputs": [],
   "source": [
    "2 > 13"
   ]
  },
  {
   "cell_type": "code",
   "execution_count": null,
   "metadata": {},
   "outputs": [],
   "source": [
    "2 <= 13"
   ]
  },
  {
   "cell_type": "code",
   "execution_count": null,
   "metadata": {},
   "outputs": [],
   "source": [
    "\"A\"!=\"a\"; \"A\"==\"a\""
   ]
  },
  {
   "cell_type": "code",
   "execution_count": null,
   "metadata": {},
   "outputs": [],
   "source": [
    "2+3==5"
   ]
  },
  {
   "cell_type": "markdown",
   "metadata": {},
   "source": [
    "## Tablas de la verdad\n",
    "\n",
    "|OR| True|False|\n",
    "|:--:|:--:|:--:|\n",
    "|**True**|True|True|\n",
    "|**False**|True|False|\n",
    "\n",
    "|NOR| True|False|\n",
    "|:--:|:--:|:--:|\n",
    "|**True**|False|False|\n",
    "|**False**|False|True|\n",
    "\n",
    "|AND| True|False|\n",
    "|:--:|:--:|:--:|\n",
    "|**True**|True|False|\n",
    "|**False**|False|False|"
   ]
  },
  {
   "cell_type": "code",
   "execution_count": null,
   "metadata": {},
   "outputs": [],
   "source": [
    "2<3 & 4==3+1"
   ]
  },
  {
   "cell_type": "code",
   "execution_count": null,
   "metadata": {},
   "outputs": [],
   "source": [
    "!2<3"
   ]
  },
  {
   "cell_type": "markdown",
   "metadata": {},
   "source": [
    "## Vectores numéricos\n",
    "\n",
    "R utiliza diferentes estructuras de datos. Los vectores numéricos son colecciones ordenada de números. Los números por sí mismos se consideran vectores de longitud 1.\n"
   ]
  },
  {
   "cell_type": "code",
   "execution_count": null,
   "metadata": {},
   "outputs": [],
   "source": [
    "x<-c(10.4,3,2019,2010,seq(15,30,by=0.5))"
   ]
  },
  {
   "cell_type": "code",
   "execution_count": null,
   "metadata": {},
   "outputs": [],
   "source": [
    "x"
   ]
  },
  {
   "cell_type": "code",
   "execution_count": null,
   "metadata": {},
   "outputs": [],
   "source": [
    "length(x)"
   ]
  },
  {
   "cell_type": "code",
   "execution_count": null,
   "metadata": {},
   "outputs": [],
   "source": [
    "length(2) #equivale a preguntar cuántos elementos tiene el vector c(2)"
   ]
  },
  {
   "cell_type": "code",
   "execution_count": null,
   "metadata": {},
   "outputs": [],
   "source": [
    "x[3]+2000"
   ]
  },
  {
   "cell_type": "code",
   "execution_count": null,
   "metadata": {},
   "outputs": [],
   "source": [
    "1/x"
   ]
  },
  {
   "cell_type": "code",
   "execution_count": null,
   "metadata": {},
   "outputs": [],
   "source": [
    "y<-c(x,rep(0,10),x+3) #rep(Z,n) significa crear un vector de n elementos todos iguales a Z\n"
   ]
  },
  {
   "cell_type": "code",
   "execution_count": null,
   "metadata": {},
   "outputs": [],
   "source": [
    "y"
   ]
  },
  {
   "cell_type": "code",
   "execution_count": null,
   "metadata": {},
   "outputs": [],
   "source": [
    "mode(y)"
   ]
  },
  {
   "cell_type": "code",
   "execution_count": null,
   "metadata": {},
   "outputs": [],
   "source": [
    "y<-c(y,\"hola\")"
   ]
  },
  {
   "cell_type": "code",
   "execution_count": null,
   "metadata": {},
   "outputs": [],
   "source": [
    "mode(y)"
   ]
  },
  {
   "cell_type": "code",
   "execution_count": null,
   "metadata": {},
   "outputs": [],
   "source": [
    "y+2"
   ]
  },
  {
   "cell_type": "code",
   "execution_count": null,
   "metadata": {},
   "outputs": [],
   "source": [
    "length(y)"
   ]
  },
  {
   "cell_type": "code",
   "execution_count": null,
   "metadata": {},
   "outputs": [],
   "source": [
    "y[81]"
   ]
  },
  {
   "cell_type": "code",
   "execution_count": null,
   "metadata": {},
   "outputs": [],
   "source": [
    "y[1:80]"
   ]
  },
  {
   "cell_type": "code",
   "execution_count": null,
   "metadata": {},
   "outputs": [],
   "source": [
    "z<-as.numeric(y[1:80]) #en general para convertir objetos de un tipo a otro compatible se usan las funciones as.(nombre del nuevo tipo)"
   ]
  },
  {
   "cell_type": "code",
   "execution_count": null,
   "metadata": {},
   "outputs": [],
   "source": [
    "as.numeric(TRUE)"
   ]
  },
  {
   "cell_type": "code",
   "execution_count": null,
   "metadata": {},
   "outputs": [],
   "source": [
    "z+2"
   ]
  },
  {
   "cell_type": "code",
   "execution_count": null,
   "metadata": {},
   "outputs": [],
   "source": [
    "x[c(5,7,10)]+c(2000,100,3)"
   ]
  },
  {
   "cell_type": "code",
   "execution_count": null,
   "metadata": {},
   "outputs": [],
   "source": [
    "x+z"
   ]
  },
  {
   "cell_type": "markdown",
   "metadata": {},
   "source": [
    "Los operadores aritméticos elementales son los habituales ```+```, ```-```, ```*```, ```/``` y ```^``` para elevar a una potencia. Además también se cuenta con la operación \"residuo\" que se invoca con ```%```.\n",
    "\n",
    "Otros ejemplos de funciones elementales son\n",
    "\n",
    "* ```exp()``` para calcular $e^x$; sin embargo, para $x$ grande esta función dará como resultado $\\infty$, representado en R con ```Inf``` (en principio, \"valores grandes\" para $\\exp(x)$ en R son $x\\ge710$).\n",
    "* ```log()``` para calcular $\\log(x)$.\n",
    "* ```sin()```, ```cos(x)```, ```tan()```, para calcular estas funciones trigonométricas con $x$ en radianes. Sin embargo, R no gusta de las funciones trigonométricas como tal por errores de aproximación. Se recomiendo utilizar las funciones ```sinpi()```, ```cospi(x)```, ```tanpi()``` (aquí, $\\mathrm{sinpi}(x)=\\sin(\\pi x)$ y análogamente con las demás). Las funciones trigonométricas inversas se obtienen pegando una a al nombre respectivo."
   ]
  },
  {
   "cell_type": "code",
   "execution_count": null,
   "metadata": {
    "scrolled": true
   },
   "outputs": [],
   "source": [
    "c(4,7,15)^3"
   ]
  },
  {
   "cell_type": "code",
   "execution_count": null,
   "metadata": {},
   "outputs": [],
   "source": [
    "3**2 #La potenciación también se puede hacer con **"
   ]
  },
  {
   "cell_type": "code",
   "execution_count": null,
   "metadata": {},
   "outputs": [],
   "source": [
    "c(1:20)%%3 # si x es un vector entonces x%%n es el vector de residuos que se obtiene al dividir\n",
    "        # cada elemento de x entre n"
   ]
  },
  {
   "cell_type": "code",
   "execution_count": null,
   "metadata": {},
   "outputs": [],
   "source": [
    "sin(2*pi) #nos debería arrojar 0 como resultado, pues sin(2pi)=0."
   ]
  },
  {
   "cell_type": "code",
   "execution_count": null,
   "metadata": {},
   "outputs": [],
   "source": [
    "sinpi(2)"
   ]
  },
  {
   "cell_type": "code",
   "execution_count": null,
   "metadata": {},
   "outputs": [],
   "source": [
    "### El siguiente código nos indica qué tan grandes (o pequeños) pueden ser los valores en R antes de que exp(n) sea Inf o 0\n",
    "\n",
    "n=1; m=1\n",
    "while(exp(n)!=Inf)\n",
    "    {n=n+1}\n",
    "n\n",
    "\n",
    "while(exp(m)!=0)\n",
    "    {m=m-1}\n",
    "m"
   ]
  },
  {
   "cell_type": "code",
   "execution_count": null,
   "metadata": {},
   "outputs": [],
   "source": [
    "w<-c(10.4,3,2019,2010,seq(15,30,by=0.5)); exp(w)"
   ]
  },
  {
   "cell_type": "markdown",
   "metadata": {},
   "source": [
    "## Funciones de vectores numéricos\n",
    "\n",
    "En general, todas las funciones anteriores pueden aplicarse a vectores numéricos sin ningún problema \"informático\" en tanto las operaciones tengan sentido matemático (esto es, que cada elemento del vector pertenezca al dominio de la función correspondiente). Si un elemento del vector no puede ser operado con una función, R lo sustituirá por la palabra ```NaN``` (Not a Number)."
   ]
  },
  {
   "cell_type": "code",
   "execution_count": null,
   "metadata": {},
   "outputs": [],
   "source": [
    "(Logaritmo<-log(c(-1,2,3)))"
   ]
  },
  {
   "cell_type": "markdown",
   "metadata": {},
   "source": [
    "Algunas funciones especiales para vectores son\n",
    "\n",
    "* ```max(x)``` y ```min(x)``` nos devuelven el máximo y mínimo, respectivamente, del vector numérico ```x```.\n",
    "* ```sum(x)``` y ```prod(x)``` nos devuelven la suma y el productor, respectivamente, de los elementos del vector numérico ```x```.\n",
    "* ```mean(x)``` y ```var(x)``` devuelven la media (promedio) y la cuasivarianza del vector ```x```. Recordemos que si $x=(x_1,x_2,\\cdots,x_n)$ entonces la media se define como $$\\overline{x}=\\frac{1}{n}\\sum_{j=1}^nx_j=\\frac{x_1+x_2+\\cdots+x_n}{n}$$ en tanto que la cuasivarianza es $$\\mathrm{cvar}(x)=\\frac{1}{n-1}\\sum_{j=1}^n(x_j-\\overline{x})^2$$\n",
    "\n",
    "\n",
    "Un estimador $\\hat{\\Theta}$ es **insesgado** si $\\mathbb{E}[\\hat{\\Theta}]=\\Theta$"
   ]
  },
  {
   "cell_type": "code",
   "execution_count": null,
   "metadata": {},
   "outputs": [],
   "source": [
    "max(c(1,2,2,3,4,4,4)); min(c(1,2,2,3,4,4,4))"
   ]
  },
  {
   "cell_type": "code",
   "execution_count": null,
   "metadata": {},
   "outputs": [],
   "source": [
    "sum(Logaritmo,na.rm=TRUE)==Logaritmo[2]+Logaritmo[3]"
   ]
  },
  {
   "cell_type": "code",
   "execution_count": null,
   "metadata": {},
   "outputs": [],
   "source": [
    "var(Logaritmo,na.rm=TRUE)"
   ]
  },
  {
   "cell_type": "markdown",
   "metadata": {},
   "source": [
    "También existe las función ```sort(x)``` que ordena los elementos del vector ```x``` de manera creciente, en tanto que ```order(x)``` devuelve la \"permutación\" para ordenarlos (es decir, ```order(x)``` nos dará el vector de índices correspondientes al ordenamiento de los elementos de ```x``` de menor a mayor)."
   ]
  },
  {
   "cell_type": "code",
   "execution_count": null,
   "metadata": {},
   "outputs": [],
   "source": [
    "sort(c(-2,2019,-8),); order(c(-2,2019,-8))"
   ]
  },
  {
   "cell_type": "code",
   "execution_count": null,
   "metadata": {},
   "outputs": [],
   "source": [
    "sort(c(-2,2019,-8), decreasing=TRUE)"
   ]
  },
  {
   "cell_type": "markdown",
   "metadata": {},
   "source": [
    "## Funciones de productos cartesianos de vectores numéricos\n",
    "\n",
    "En general, si ```X``` y ```Y``` son vectores numéricos, se puede utilizar la función ```outer(X,Y,\"Función\")``` para aplicar la función de dos variables \"Función\" a las parejas $(x,y)\\in X\\times Y$."
   ]
  },
  {
   "cell_type": "code",
   "execution_count": null,
   "metadata": {},
   "outputs": [],
   "source": [
    "a<-c(1,2,3); b<-c(4,5,6,7); outer(a,b,\"*\")"
   ]
  },
  {
   "cell_type": "code",
   "execution_count": null,
   "metadata": {},
   "outputs": [],
   "source": [
    "fun<-function(x,y){exp(x)+y^2};\n",
    "outer(a,b,\"fun\")"
   ]
  },
  {
   "cell_type": "markdown",
   "metadata": {},
   "source": [
    "## Selección de subvectores\n",
    "\n",
    "Si ```x``` es un vector (no necesariamente numérico, como veremos en breve), siempre se pueden seleccionar algunos de sus elementos mediante un vector de índices. Una vez seleccionados pueden modificarse estos elementos."
   ]
  },
  {
   "cell_type": "code",
   "execution_count": null,
   "metadata": {},
   "outputs": [],
   "source": [
    "(x<-seq(1,20,by=0.5))"
   ]
  },
  {
   "cell_type": "code",
   "execution_count": null,
   "metadata": {},
   "outputs": [],
   "source": [
    "x[c(2,6,7)]"
   ]
  },
  {
   "cell_type": "code",
   "execution_count": null,
   "metadata": {},
   "outputs": [],
   "source": [
    " x[c(2,6,7)]<-0; x"
   ]
  },
  {
   "cell_type": "code",
   "execution_count": null,
   "metadata": {},
   "outputs": [],
   "source": [
    "x[c(10,15,20)]<-c(2019,2020,2021)"
   ]
  },
  {
   "cell_type": "code",
   "execution_count": null,
   "metadata": {},
   "outputs": [],
   "source": [
    "x"
   ]
  },
  {
   "cell_type": "code",
   "execution_count": null,
   "metadata": {},
   "outputs": [],
   "source": [
    "x[(x>5.7)==TRUE]<-x[(x>5.7)==TRUE]-4"
   ]
  },
  {
   "cell_type": "code",
   "execution_count": null,
   "metadata": {},
   "outputs": [],
   "source": [
    "w[exp(w)==Inf]<-2*w[exp(w)==Inf]"
   ]
  },
  {
   "cell_type": "code",
   "execution_count": null,
   "metadata": {},
   "outputs": [],
   "source": [
    "x"
   ]
  },
  {
   "cell_type": "code",
   "execution_count": null,
   "metadata": {},
   "outputs": [],
   "source": [
    "w"
   ]
  },
  {
   "cell_type": "markdown",
   "metadata": {},
   "source": [
    "## Vectores de caracteres\n",
    "\n",
    "Las cadenas de caracteres, o frases, también son utilizadas en R, por ejemplo, para etiquetar gráficos. Una cadena de caracteres se construye escribiendo entre comillas la sucesión de caracteres que la define, por ejemplo, \"Estados Unidos Mexicanos\" o \"Aguascalientes\".\n"
   ]
  },
  {
   "cell_type": "code",
   "execution_count": 119,
   "metadata": {},
   "outputs": [],
   "source": [
    "Estados<-c(\"Estados Unidos Mexicanos\", \"Aguascalientes\",\"Baja California\",\"Baja California Sur\",\"Campeche\",\n",
    "\"Coahuila de Zaragoza\",\"Colima\",\"Chiapas\",\"Chihuahua\",\"Distrito Federal\",\"Durango\",\"Guanajuato\",\"Guerrero\",\n",
    "\"Hidalgo\",\"Jalisco\",\"Estado de México\",\"Michoacán de Ocampo\",\"Morelos\",\"Nayarit\",\"Nuevo León\",\"Oaxaca\",\n",
    "\"Puebla\",\"Querétaro\",\"Quintana Roo\",\"San Luis Potosí\",\"Sinaloa\",\"Sonora\",\"Tabasco\",\"Tamaulipas\",\"Tlaxcala\",\n",
    "\"Veracruz de Ig0cio de la Llave\",\"Yucatán\",\"Zacatecas\")"
   ]
  },
  {
   "cell_type": "code",
   "execution_count": null,
   "metadata": {},
   "outputs": [],
   "source": [
    "Estados"
   ]
  },
  {
   "cell_type": "code",
   "execution_count": 112,
   "metadata": {},
   "outputs": [],
   "source": [
    "Code<-c(1:33)"
   ]
  },
  {
   "cell_type": "code",
   "execution_count": null,
   "metadata": {},
   "outputs": [],
   "source": [
    "Code"
   ]
  },
  {
   "cell_type": "code",
   "execution_count": 113,
   "metadata": {},
   "outputs": [],
   "source": [
    "Code[1:9]<-paste0(0,Code[1:9])"
   ]
  },
  {
   "cell_type": "code",
   "execution_count": null,
   "metadata": {},
   "outputs": [],
   "source": [
    "Code"
   ]
  },
  {
   "cell_type": "code",
   "execution_count": 120,
   "metadata": {},
   "outputs": [],
   "source": [
    "Estados<-paste(\"hola\",Code,Estados,sep=\".\")"
   ]
  },
  {
   "cell_type": "code",
   "execution_count": 121,
   "metadata": {},
   "outputs": [
    {
     "data": {
      "text/html": [
       "<ol class=list-inline>\n",
       "\t<li>'hola.01.Estados Unidos Mexicanos'</li>\n",
       "\t<li>'hola.02.Aguascalientes'</li>\n",
       "\t<li>'hola.03.Baja California'</li>\n",
       "\t<li>'hola.04.Baja California Sur'</li>\n",
       "\t<li>'hola.05.Campeche'</li>\n",
       "\t<li>'hola.06.Coahuila de Zaragoza'</li>\n",
       "\t<li>'hola.07.Colima'</li>\n",
       "\t<li>'hola.08.Chiapas'</li>\n",
       "\t<li>'hola.09.Chihuahua'</li>\n",
       "\t<li>'hola.10.Distrito Federal'</li>\n",
       "\t<li>'hola.11.Durango'</li>\n",
       "\t<li>'hola.12.Guanajuato'</li>\n",
       "\t<li>'hola.13.Guerrero'</li>\n",
       "\t<li>'hola.14.Hidalgo'</li>\n",
       "\t<li>'hola.15.Jalisco'</li>\n",
       "\t<li>'hola.16.Estado de México'</li>\n",
       "\t<li>'hola.17.Michoacán de Ocampo'</li>\n",
       "\t<li>'hola.18.Morelos'</li>\n",
       "\t<li>'hola.19.Nayarit'</li>\n",
       "\t<li>'hola.20.Nuevo León'</li>\n",
       "\t<li>'hola.21.Oaxaca'</li>\n",
       "\t<li>'hola.22.Puebla'</li>\n",
       "\t<li>'hola.23.Querétaro'</li>\n",
       "\t<li>'hola.24.Quintana Roo'</li>\n",
       "\t<li>'hola.25.San Luis Potosí'</li>\n",
       "\t<li>'hola.26.Sinaloa'</li>\n",
       "\t<li>'hola.27.Sonora'</li>\n",
       "\t<li>'hola.28.Tabasco'</li>\n",
       "\t<li>'hola.29.Tamaulipas'</li>\n",
       "\t<li>'hola.30.Tlaxcala'</li>\n",
       "\t<li>'hola.31.Veracruz de Ig0cio de la Llave'</li>\n",
       "\t<li>'hola.32.Yucatán'</li>\n",
       "\t<li>'hola.33.Zacatecas'</li>\n",
       "</ol>\n"
      ],
      "text/latex": [
       "\\begin{enumerate*}\n",
       "\\item 'hola.01.Estados Unidos Mexicanos'\n",
       "\\item 'hola.02.Aguascalientes'\n",
       "\\item 'hola.03.Baja California'\n",
       "\\item 'hola.04.Baja California Sur'\n",
       "\\item 'hola.05.Campeche'\n",
       "\\item 'hola.06.Coahuila de Zaragoza'\n",
       "\\item 'hola.07.Colima'\n",
       "\\item 'hola.08.Chiapas'\n",
       "\\item 'hola.09.Chihuahua'\n",
       "\\item 'hola.10.Distrito Federal'\n",
       "\\item 'hola.11.Durango'\n",
       "\\item 'hola.12.Guanajuato'\n",
       "\\item 'hola.13.Guerrero'\n",
       "\\item 'hola.14.Hidalgo'\n",
       "\\item 'hola.15.Jalisco'\n",
       "\\item 'hola.16.Estado de México'\n",
       "\\item 'hola.17.Michoacán de Ocampo'\n",
       "\\item 'hola.18.Morelos'\n",
       "\\item 'hola.19.Nayarit'\n",
       "\\item 'hola.20.Nuevo León'\n",
       "\\item 'hola.21.Oaxaca'\n",
       "\\item 'hola.22.Puebla'\n",
       "\\item 'hola.23.Querétaro'\n",
       "\\item 'hola.24.Quintana Roo'\n",
       "\\item 'hola.25.San Luis Potosí'\n",
       "\\item 'hola.26.Sinaloa'\n",
       "\\item 'hola.27.Sonora'\n",
       "\\item 'hola.28.Tabasco'\n",
       "\\item 'hola.29.Tamaulipas'\n",
       "\\item 'hola.30.Tlaxcala'\n",
       "\\item 'hola.31.Veracruz de Ig0cio de la Llave'\n",
       "\\item 'hola.32.Yucatán'\n",
       "\\item 'hola.33.Zacatecas'\n",
       "\\end{enumerate*}\n"
      ],
      "text/markdown": [
       "1. 'hola.01.Estados Unidos Mexicanos'\n",
       "2. 'hola.02.Aguascalientes'\n",
       "3. 'hola.03.Baja California'\n",
       "4. 'hola.04.Baja California Sur'\n",
       "5. 'hola.05.Campeche'\n",
       "6. 'hola.06.Coahuila de Zaragoza'\n",
       "7. 'hola.07.Colima'\n",
       "8. 'hola.08.Chiapas'\n",
       "9. 'hola.09.Chihuahua'\n",
       "10. 'hola.10.Distrito Federal'\n",
       "11. 'hola.11.Durango'\n",
       "12. 'hola.12.Guanajuato'\n",
       "13. 'hola.13.Guerrero'\n",
       "14. 'hola.14.Hidalgo'\n",
       "15. 'hola.15.Jalisco'\n",
       "16. 'hola.16.Estado de México'\n",
       "17. 'hola.17.Michoacán de Ocampo'\n",
       "18. 'hola.18.Morelos'\n",
       "19. 'hola.19.Nayarit'\n",
       "20. 'hola.20.Nuevo León'\n",
       "21. 'hola.21.Oaxaca'\n",
       "22. 'hola.22.Puebla'\n",
       "23. 'hola.23.Querétaro'\n",
       "24. 'hola.24.Quintana Roo'\n",
       "25. 'hola.25.San Luis Potosí'\n",
       "26. 'hola.26.Sinaloa'\n",
       "27. 'hola.27.Sonora'\n",
       "28. 'hola.28.Tabasco'\n",
       "29. 'hola.29.Tamaulipas'\n",
       "30. 'hola.30.Tlaxcala'\n",
       "31. 'hola.31.Veracruz de Ig0cio de la Llave'\n",
       "32. 'hola.32.Yucatán'\n",
       "33. 'hola.33.Zacatecas'\n",
       "\n",
       "\n"
      ],
      "text/plain": [
       " [1] \"hola.01.Estados Unidos Mexicanos\"      \n",
       " [2] \"hola.02.Aguascalientes\"                \n",
       " [3] \"hola.03.Baja California\"               \n",
       " [4] \"hola.04.Baja California Sur\"           \n",
       " [5] \"hola.05.Campeche\"                      \n",
       " [6] \"hola.06.Coahuila de Zaragoza\"          \n",
       " [7] \"hola.07.Colima\"                        \n",
       " [8] \"hola.08.Chiapas\"                       \n",
       " [9] \"hola.09.Chihuahua\"                     \n",
       "[10] \"hola.10.Distrito Federal\"              \n",
       "[11] \"hola.11.Durango\"                       \n",
       "[12] \"hola.12.Guanajuato\"                    \n",
       "[13] \"hola.13.Guerrero\"                      \n",
       "[14] \"hola.14.Hidalgo\"                       \n",
       "[15] \"hola.15.Jalisco\"                       \n",
       "[16] \"hola.16.Estado de México\"              \n",
       "[17] \"hola.17.Michoacán de Ocampo\"           \n",
       "[18] \"hola.18.Morelos\"                       \n",
       "[19] \"hola.19.Nayarit\"                       \n",
       "[20] \"hola.20.Nuevo León\"                    \n",
       "[21] \"hola.21.Oaxaca\"                        \n",
       "[22] \"hola.22.Puebla\"                        \n",
       "[23] \"hola.23.Querétaro\"                     \n",
       "[24] \"hola.24.Quintana Roo\"                  \n",
       "[25] \"hola.25.San Luis Potosí\"               \n",
       "[26] \"hola.26.Sinaloa\"                       \n",
       "[27] \"hola.27.Sonora\"                        \n",
       "[28] \"hola.28.Tabasco\"                       \n",
       "[29] \"hola.29.Tamaulipas\"                    \n",
       "[30] \"hola.30.Tlaxcala\"                      \n",
       "[31] \"hola.31.Veracruz de Ig0cio de la Llave\"\n",
       "[32] \"hola.32.Yucatán\"                       \n",
       "[33] \"hola.33.Zacatecas\"                     "
      ]
     },
     "metadata": {},
     "output_type": "display_data"
    }
   ],
   "source": [
    "Estados"
   ]
  },
  {
   "cell_type": "markdown",
   "metadata": {},
   "source": [
    "## Subcadenas de texto\n",
    "\n",
    "En un vector de caracteres (o un texto) algunas ocasiones es necesario reobtener información. Para ello, contamos con las funciones ```substr()``` y ```substring()```. En ambas, es necesario conocer a partir de qué número de caracter se debe iniciar. La primera se ocupa cuando se conoce hasta dónde se van a sustraer los caracteres, en tanto que en la segunda no.\n",
    "\n",
    "Las sintaxis son ```substr(x,inicio,final)``` y ```substring(x,inicio,last=1000000L)```, donde ```x``` es un vector de caracteres."
   ]
  },
  {
   "cell_type": "code",
   "execution_count": 116,
   "metadata": {},
   "outputs": [
    {
     "data": {
      "text/html": [
       "<ol class=list-inline>\n",
       "\t<li>'01.Estados Unidos Mexicanos'</li>\n",
       "\t<li>'02.Aguascalientes'</li>\n",
       "\t<li>'03.Baja California'</li>\n",
       "\t<li>'04.Baja California Sur'</li>\n",
       "\t<li>'05.Campeche'</li>\n",
       "\t<li>'06.Coahuila de Zaragoza'</li>\n",
       "\t<li>'07.Colima'</li>\n",
       "\t<li>'08.Chiapas'</li>\n",
       "\t<li>'09.Chihuahua'</li>\n",
       "\t<li>'10.Distrito Federal'</li>\n",
       "\t<li>'11.Durango'</li>\n",
       "\t<li>'12.Guanajuato'</li>\n",
       "\t<li>'13.Guerrero'</li>\n",
       "\t<li>'14.Hidalgo'</li>\n",
       "\t<li>'15.Jalisco'</li>\n",
       "\t<li>'16.Estado de México'</li>\n",
       "\t<li>'17.Michoacán de Ocampo'</li>\n",
       "\t<li>'18.Morelos'</li>\n",
       "\t<li>'19.Nayarit'</li>\n",
       "\t<li>'20.Nuevo León'</li>\n",
       "\t<li>'21.Oaxaca'</li>\n",
       "\t<li>'22.Puebla'</li>\n",
       "\t<li>'23.Querétaro'</li>\n",
       "\t<li>'24.Quintana Roo'</li>\n",
       "\t<li>'25.San Luis Potosí'</li>\n",
       "\t<li>'26.Sinaloa'</li>\n",
       "\t<li>'27.Sonora'</li>\n",
       "\t<li>'28.Tabasco'</li>\n",
       "\t<li>'29.Tamaulipas'</li>\n",
       "\t<li>'30.Tlaxcala'</li>\n",
       "\t<li>'31.Veracruz de Ig0cio de la Llave'</li>\n",
       "\t<li>'32.Yucatán'</li>\n",
       "\t<li>'33.Zacatecas'</li>\n",
       "</ol>\n"
      ],
      "text/latex": [
       "\\begin{enumerate*}\n",
       "\\item '01.Estados Unidos Mexicanos'\n",
       "\\item '02.Aguascalientes'\n",
       "\\item '03.Baja California'\n",
       "\\item '04.Baja California Sur'\n",
       "\\item '05.Campeche'\n",
       "\\item '06.Coahuila de Zaragoza'\n",
       "\\item '07.Colima'\n",
       "\\item '08.Chiapas'\n",
       "\\item '09.Chihuahua'\n",
       "\\item '10.Distrito Federal'\n",
       "\\item '11.Durango'\n",
       "\\item '12.Guanajuato'\n",
       "\\item '13.Guerrero'\n",
       "\\item '14.Hidalgo'\n",
       "\\item '15.Jalisco'\n",
       "\\item '16.Estado de México'\n",
       "\\item '17.Michoacán de Ocampo'\n",
       "\\item '18.Morelos'\n",
       "\\item '19.Nayarit'\n",
       "\\item '20.Nuevo León'\n",
       "\\item '21.Oaxaca'\n",
       "\\item '22.Puebla'\n",
       "\\item '23.Querétaro'\n",
       "\\item '24.Quintana Roo'\n",
       "\\item '25.San Luis Potosí'\n",
       "\\item '26.Sinaloa'\n",
       "\\item '27.Sonora'\n",
       "\\item '28.Tabasco'\n",
       "\\item '29.Tamaulipas'\n",
       "\\item '30.Tlaxcala'\n",
       "\\item '31.Veracruz de Ig0cio de la Llave'\n",
       "\\item '32.Yucatán'\n",
       "\\item '33.Zacatecas'\n",
       "\\end{enumerate*}\n"
      ],
      "text/markdown": [
       "1. '01.Estados Unidos Mexicanos'\n",
       "2. '02.Aguascalientes'\n",
       "3. '03.Baja California'\n",
       "4. '04.Baja California Sur'\n",
       "5. '05.Campeche'\n",
       "6. '06.Coahuila de Zaragoza'\n",
       "7. '07.Colima'\n",
       "8. '08.Chiapas'\n",
       "9. '09.Chihuahua'\n",
       "10. '10.Distrito Federal'\n",
       "11. '11.Durango'\n",
       "12. '12.Guanajuato'\n",
       "13. '13.Guerrero'\n",
       "14. '14.Hidalgo'\n",
       "15. '15.Jalisco'\n",
       "16. '16.Estado de México'\n",
       "17. '17.Michoacán de Ocampo'\n",
       "18. '18.Morelos'\n",
       "19. '19.Nayarit'\n",
       "20. '20.Nuevo León'\n",
       "21. '21.Oaxaca'\n",
       "22. '22.Puebla'\n",
       "23. '23.Querétaro'\n",
       "24. '24.Quintana Roo'\n",
       "25. '25.San Luis Potosí'\n",
       "26. '26.Sinaloa'\n",
       "27. '27.Sonora'\n",
       "28. '28.Tabasco'\n",
       "29. '29.Tamaulipas'\n",
       "30. '30.Tlaxcala'\n",
       "31. '31.Veracruz de Ig0cio de la Llave'\n",
       "32. '32.Yucatán'\n",
       "33. '33.Zacatecas'\n",
       "\n",
       "\n"
      ],
      "text/plain": [
       " [1] \"01.Estados Unidos Mexicanos\"       \"02.Aguascalientes\"                \n",
       " [3] \"03.Baja California\"                \"04.Baja California Sur\"           \n",
       " [5] \"05.Campeche\"                       \"06.Coahuila de Zaragoza\"          \n",
       " [7] \"07.Colima\"                         \"08.Chiapas\"                       \n",
       " [9] \"09.Chihuahua\"                      \"10.Distrito Federal\"              \n",
       "[11] \"11.Durango\"                        \"12.Guanajuato\"                    \n",
       "[13] \"13.Guerrero\"                       \"14.Hidalgo\"                       \n",
       "[15] \"15.Jalisco\"                        \"16.Estado de México\"              \n",
       "[17] \"17.Michoacán de Ocampo\"            \"18.Morelos\"                       \n",
       "[19] \"19.Nayarit\"                        \"20.Nuevo León\"                    \n",
       "[21] \"21.Oaxaca\"                         \"22.Puebla\"                        \n",
       "[23] \"23.Querétaro\"                      \"24.Quintana Roo\"                  \n",
       "[25] \"25.San Luis Potosí\"                \"26.Sinaloa\"                       \n",
       "[27] \"27.Sonora\"                         \"28.Tabasco\"                       \n",
       "[29] \"29.Tamaulipas\"                     \"30.Tlaxcala\"                      \n",
       "[31] \"31.Veracruz de Ig0cio de la Llave\" \"32.Yucatán\"                       \n",
       "[33] \"33.Zacatecas\"                     "
      ]
     },
     "metadata": {},
     "output_type": "display_data"
    }
   ],
   "source": [
    "substring(Estados,6,last=1000000L) "
   ]
  },
  {
   "cell_type": "code",
   "execution_count": 122,
   "metadata": {},
   "outputs": [
    {
     "data": {
      "text/html": [
       "<ol class=list-inline>\n",
       "\t<li>'01'</li>\n",
       "\t<li>'02'</li>\n",
       "\t<li>'03'</li>\n",
       "\t<li>'04'</li>\n",
       "\t<li>'05'</li>\n",
       "\t<li>'06'</li>\n",
       "\t<li>'07'</li>\n",
       "\t<li>'08'</li>\n",
       "\t<li>'09'</li>\n",
       "\t<li>'10'</li>\n",
       "\t<li>'11'</li>\n",
       "\t<li>'12'</li>\n",
       "\t<li>'13'</li>\n",
       "\t<li>'14'</li>\n",
       "\t<li>'15'</li>\n",
       "\t<li>'16'</li>\n",
       "\t<li>'17'</li>\n",
       "\t<li>'18'</li>\n",
       "\t<li>'19'</li>\n",
       "\t<li>'20'</li>\n",
       "\t<li>'21'</li>\n",
       "\t<li>'22'</li>\n",
       "\t<li>'23'</li>\n",
       "\t<li>'24'</li>\n",
       "\t<li>'25'</li>\n",
       "\t<li>'26'</li>\n",
       "\t<li>'27'</li>\n",
       "\t<li>'28'</li>\n",
       "\t<li>'29'</li>\n",
       "\t<li>'30'</li>\n",
       "\t<li>'31'</li>\n",
       "\t<li>'32'</li>\n",
       "\t<li>'33'</li>\n",
       "</ol>\n"
      ],
      "text/latex": [
       "\\begin{enumerate*}\n",
       "\\item '01'\n",
       "\\item '02'\n",
       "\\item '03'\n",
       "\\item '04'\n",
       "\\item '05'\n",
       "\\item '06'\n",
       "\\item '07'\n",
       "\\item '08'\n",
       "\\item '09'\n",
       "\\item '10'\n",
       "\\item '11'\n",
       "\\item '12'\n",
       "\\item '13'\n",
       "\\item '14'\n",
       "\\item '15'\n",
       "\\item '16'\n",
       "\\item '17'\n",
       "\\item '18'\n",
       "\\item '19'\n",
       "\\item '20'\n",
       "\\item '21'\n",
       "\\item '22'\n",
       "\\item '23'\n",
       "\\item '24'\n",
       "\\item '25'\n",
       "\\item '26'\n",
       "\\item '27'\n",
       "\\item '28'\n",
       "\\item '29'\n",
       "\\item '30'\n",
       "\\item '31'\n",
       "\\item '32'\n",
       "\\item '33'\n",
       "\\end{enumerate*}\n"
      ],
      "text/markdown": [
       "1. '01'\n",
       "2. '02'\n",
       "3. '03'\n",
       "4. '04'\n",
       "5. '05'\n",
       "6. '06'\n",
       "7. '07'\n",
       "8. '08'\n",
       "9. '09'\n",
       "10. '10'\n",
       "11. '11'\n",
       "12. '12'\n",
       "13. '13'\n",
       "14. '14'\n",
       "15. '15'\n",
       "16. '16'\n",
       "17. '17'\n",
       "18. '18'\n",
       "19. '19'\n",
       "20. '20'\n",
       "21. '21'\n",
       "22. '22'\n",
       "23. '23'\n",
       "24. '24'\n",
       "25. '25'\n",
       "26. '26'\n",
       "27. '27'\n",
       "28. '28'\n",
       "29. '29'\n",
       "30. '30'\n",
       "31. '31'\n",
       "32. '32'\n",
       "33. '33'\n",
       "\n",
       "\n"
      ],
      "text/plain": [
       " [1] \"01\" \"02\" \"03\" \"04\" \"05\" \"06\" \"07\" \"08\" \"09\" \"10\" \"11\" \"12\" \"13\" \"14\" \"15\"\n",
       "[16] \"16\" \"17\" \"18\" \"19\" \"20\" \"21\" \"22\" \"23\" \"24\" \"25\" \"26\" \"27\" \"28\" \"29\" \"30\"\n",
       "[31] \"31\" \"32\" \"33\""
      ]
     },
     "metadata": {},
     "output_type": "display_data"
    }
   ],
   "source": [
    "substr(Estados,6,7)"
   ]
  },
  {
   "cell_type": "markdown",
   "metadata": {},
   "source": [
    "## La función eval( )\n",
    "\n",
    "Los objetos resultados de un paste son cadenas de texto. Muchas veces estas cadenas de texto deben ser a su vez evaluadas (por ejemplo, ```U=paste0(\"5\",\"+\",\"5\")``` da como resultado ```U=\"5+5\"```). Para hacer esto, utilizamos la función ```eval(expresión)```. Sin embargo, ```eval()``` evalúa una expresión y las expresiones en R son una *clase* especial de objetos. Como ```U``` es un objeto de clase caracter, es necesario convertirlo a un objeto de clase expresión. Esto se hace con la función ```parse(text=CARACTER QUE VAS A EVALUAR)```.\n",
    "\n",
    "Además, las expresiones en R se pueden crear con la función ```expression(x)```, donde ```x``` es típicamente un *llamado* o un *símbolo* \n"
   ]
  },
  {
   "cell_type": "code",
   "execution_count": 123,
   "metadata": {},
   "outputs": [
    {
     "data": {
      "text/html": [
       "'5+5'"
      ],
      "text/latex": [
       "'5+5'"
      ],
      "text/markdown": [
       "'5+5'"
      ],
      "text/plain": [
       "[1] \"5+5\""
      ]
     },
     "metadata": {},
     "output_type": "display_data"
    },
    {
     "data": {
      "text/html": [
       "'character'"
      ],
      "text/latex": [
       "'character'"
      ],
      "text/markdown": [
       "'character'"
      ],
      "text/plain": [
       "[1] \"character\""
      ]
     },
     "metadata": {},
     "output_type": "display_data"
    }
   ],
   "source": [
    "U<-paste0(\"5\",\"+\",\"5\"); U; class(U)"
   ]
  },
  {
   "cell_type": "code",
   "execution_count": 124,
   "metadata": {},
   "outputs": [
    {
     "data": {
      "text/html": [
       "10"
      ],
      "text/latex": [
       "10"
      ],
      "text/markdown": [
       "10"
      ],
      "text/plain": [
       "[1] 10"
      ]
     },
     "metadata": {},
     "output_type": "display_data"
    }
   ],
   "source": [
    "eval(parse(text=U))"
   ]
  },
  {
   "cell_type": "code",
   "execution_count": 125,
   "metadata": {},
   "outputs": [
    {
     "data": {
      "text/plain": [
       "expression(2 * 2019)"
      ]
     },
     "metadata": {},
     "output_type": "display_data"
    }
   ],
   "source": [
    "V<-expression(2*2019); V"
   ]
  },
  {
   "cell_type": "code",
   "execution_count": 126,
   "metadata": {},
   "outputs": [
    {
     "data": {
      "text/html": [
       "4038"
      ],
      "text/latex": [
       "4038"
      ],
      "text/markdown": [
       "4038"
      ],
      "text/plain": [
       "[1] 4038"
      ]
     },
     "metadata": {},
     "output_type": "display_data"
    }
   ],
   "source": [
    "eval(V)"
   ]
  },
  {
   "cell_type": "markdown",
   "metadata": {},
   "source": [
    "## Vectores lógicos\n",
    "\n",
    "Los vectores lógicos aparecen al utilizar condiciones. "
   ]
  },
  {
   "cell_type": "code",
   "execution_count": null,
   "metadata": {},
   "outputs": [],
   "source": [
    "a<-c(1:100); a>20"
   ]
  }
 ],
 "metadata": {
  "kernelspec": {
   "display_name": "R",
   "language": "R",
   "name": "ir"
  },
  "language_info": {
   "codemirror_mode": "r",
   "file_extension": ".r",
   "mimetype": "text/x-r-source",
   "name": "R",
   "pygments_lexer": "r",
   "version": "3.6.1"
  }
 },
 "nbformat": 4,
 "nbformat_minor": 2
}
